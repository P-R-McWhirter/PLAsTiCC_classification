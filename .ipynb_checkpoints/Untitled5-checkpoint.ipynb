{
 "cells": [
  {
   "cell_type": "code",
   "execution_count": 1,
   "metadata": {},
   "outputs": [
    {
     "name": "stderr",
     "output_type": "stream",
     "text": [
      "Feature Extraction: 100%|████████████████████████████████████████████████| 20/20 [00:08<00:00,  2.23it/s]\n",
      "Feature Extraction: 100%|████████████████████████████████████████████████| 20/20 [00:03<00:00,  5.96it/s]\n",
      "Feature Extraction: 100%|████████████████████████████████████████████████| 20/20 [00:02<00:00,  8.40it/s]\n",
      "Feature Extraction: 100%|████████████████████████████████████████████████| 20/20 [00:01<00:00, 10.03it/s]\n"
     ]
    },
    {
     "name": "stdout",
     "output_type": "stream",
     "text": [
      "Unique classes : 14, [6, 15, 16, 42, 52, 53, 62, 64, 65, 67, 88, 90, 92, 95]\n",
      "{6: 1, 15: 2, 16: 1, 42: 1, 52: 1, 53: 1, 62: 1, 64: 2, 65: 1, 67: 1, 88: 1, 90: 1, 92: 1, 95: 1}\n",
      "                                                   count          mean  \\\n",
      "flux_min                                          7848.0 -5.817377e+02   \n",
      "flux_max                                          7848.0  1.224459e+03   \n",
      "flux_mean                                         7848.0  3.351244e+01   \n",
      "flux_median                                       7848.0 -1.317095e+01   \n",
      "flux_std                                          7848.0  2.775506e+02   \n",
      "flux_skew                                         7848.0  2.158618e+00   \n",
      "flux_err_min                                      7848.0  2.936255e+00   \n",
      "flux_err_max                                      7848.0  4.104654e+02   \n",
      "flux_err_mean                                     7848.0  3.303208e+01   \n",
      "flux_err_median                                   7848.0  1.248738e+01   \n",
      "flux_err_std                                      7848.0  6.978792e+01   \n",
      "flux_err_skew                                     7848.0  2.483038e+00   \n",
      "detected_mean                                     7848.0  1.573900e-01   \n",
      "flux_ratio_sq_sum                                 7848.0  1.100639e+05   \n",
      "flux_ratio_sq_skew                                7848.0  6.669395e+00   \n",
      "flux_by_flux_ratio_sq_sum                         7848.0  4.718638e+07   \n",
      "flux_by_flux_ratio_sq_skew                        7848.0  5.916174e+00   \n",
      "flux_w_mean                                       7848.0  1.999271e+02   \n",
      "flux_diff1                                        7848.0  1.806196e+03   \n",
      "flux_diff2                                        7848.0  2.389844e+01   \n",
      "flux_diff3                                        7848.0  2.114325e+00   \n",
      "0__fft_coefficient__coeff_0__attr_\"abs\"           7848.0  8.686732e+02   \n",
      "0__fft_coefficient__coeff_1__attr_\"abs\"           7848.0  1.083683e+03   \n",
      "0__kurtosis                                       7841.0  2.931102e+00   \n",
      "0__skewness                                       7847.0  6.589448e-01   \n",
      "1__fft_coefficient__coeff_0__attr_\"abs\"           7848.0  1.534345e+03   \n",
      "1__fft_coefficient__coeff_1__attr_\"abs\"           7848.0  9.258924e+02   \n",
      "1__kurtosis                                       7845.0  5.833965e+00   \n",
      "1__skewness                                       7848.0  1.343296e+00   \n",
      "2__fft_coefficient__coeff_0__attr_\"abs\"           7848.0  2.706631e+03   \n",
      "2__fft_coefficient__coeff_1__attr_\"abs\"           7848.0  1.587983e+03   \n",
      "2__kurtosis                                       7848.0  7.780067e+00   \n",
      "2__skewness                                       7848.0  1.764522e+00   \n",
      "3__fft_coefficient__coeff_0__attr_\"abs\"           7848.0  2.855174e+03   \n",
      "3__fft_coefficient__coeff_1__attr_\"abs\"           7848.0  1.597846e+03   \n",
      "3__kurtosis                                       7848.0  6.708265e+00   \n",
      "3__skewness                                       7848.0  1.611161e+00   \n",
      "4__fft_coefficient__coeff_0__attr_\"abs\"           7848.0  4.109145e+03   \n",
      "4__fft_coefficient__coeff_1__attr_\"abs\"           7848.0  2.023273e+03   \n",
      "4__kurtosis                                       7848.0  6.259162e+00   \n",
      "4__skewness                                       7848.0  1.477267e+00   \n",
      "5__fft_coefficient__coeff_0__attr_\"abs\"           7848.0  5.195574e+03   \n",
      "5__fft_coefficient__coeff_1__attr_\"abs\"           7848.0  2.436035e+03   \n",
      "5__kurtosis                                       7848.0  4.116877e+00   \n",
      "5__skewness                                       7848.0  9.237385e-01   \n",
      "flux__length                                      7848.0  1.811551e+02   \n",
      "flux__longest_strike_above_mean                   7848.0  1.418629e+01   \n",
      "flux__longest_strike_below_mean                   7848.0  3.506651e+01   \n",
      "flux__mean_abs_change                             7848.0  1.588398e+02   \n",
      "flux__mean_change                                 7848.0  3.320639e-01   \n",
      "flux_by_flux_ratio_sq__longest_strike_above_mean  7848.0  1.057250e+01   \n",
      "flux_by_flux_ratio_sq__longest_strike_below_mean  7848.0  9.090813e+01   \n",
      "mjd__mean_abs_change                              7848.0  4.411311e+01   \n",
      "mjd__mean_change                                  7848.0  4.411311e+01   \n",
      "mjd_diff_det                                      7848.0  2.838325e+02   \n",
      "hostgal_photoz                                    7848.0  3.578845e-01   \n",
      "hostgal_photoz_err                                7848.0  1.556947e-01   \n",
      "distmod                                           5523.0  4.126396e+01   \n",
      "mwebv                                             7848.0  8.195260e-02   \n",
      "haversine                                         7848.0  1.493521e+00   \n",
      "latlon1                                           7848.0 -3.876255e-01   \n",
      "hostgal_photoz_certain                            7848.0  5.785227e-01   \n",
      "\n",
      "                                                           std           min  \\\n",
      "flux_min                                          1.342036e+04 -1.149388e+06   \n",
      "flux_max                                          2.867330e+04 -7.517203e+02   \n",
      "flux_mean                                         1.827033e+03 -4.783272e+04   \n",
      "flux_median                                       8.179198e+02 -4.336586e+04   \n",
      "flux_std                                          3.890649e+03  2.687631e+00   \n",
      "flux_skew                                         3.028822e+00 -1.281353e+01   \n",
      "flux_err_min                                      7.696597e+00  4.637530e-01   \n",
      "flux_err_max                                      2.538694e+04  9.063369e+00   \n",
      "flux_err_mean                                     1.199017e+03  2.198749e+00   \n",
      "flux_err_median                                   4.874503e+01  1.754588e+00   \n",
      "flux_err_std                                      4.112916e+03  9.761724e-01   \n",
      "flux_err_skew                                     2.966362e+00 -2.042322e+00   \n",
      "detected_mean                                     2.233782e-01  5.681818e-03   \n",
      "flux_ratio_sq_sum                                 5.943836e+05  1.269791e+02   \n",
      "flux_ratio_sq_skew                                3.110736e+00 -1.239108e+00   \n",
      "flux_by_flux_ratio_sq_sum                         3.074160e+09 -1.153257e+11   \n",
      "flux_by_flux_ratio_sq_skew                        5.626113e+00 -1.840455e+01   \n",
      "flux_w_mean                                       2.658033e+03 -6.990388e+04   \n",
      "flux_diff1                                        4.160635e+04  2.126078e+01   \n",
      "flux_diff2                                        1.436849e+03 -6.647960e+04   \n",
      "flux_diff3                                        6.559672e+01 -3.335919e+03   \n",
      "0__fft_coefficient__coeff_0__attr_\"abs\"           2.558435e+04  6.706000e-03   \n",
      "0__fft_coefficient__coeff_1__attr_\"abs\"           5.287930e+04  1.739167e-01   \n",
      "0__kurtosis                                       7.578568e+00 -3.203161e+00   \n",
      "0__skewness                                       1.560550e+00 -7.756287e+00   \n",
      "1__fft_coefficient__coeff_0__attr_\"abs\"           1.159396e+04  1.081000e-03   \n",
      "1__fft_coefficient__coeff_1__attr_\"abs\"           7.143211e+03  1.861472e-01   \n",
      "1__kurtosis                                       8.837887e+00 -4.291602e+00   \n",
      "1__skewness                                       1.977723e+00 -7.384496e+00   \n",
      "2__fft_coefficient__coeff_0__attr_\"abs\"           4.382792e+04  1.954300e-02   \n",
      "2__fft_coefficient__coeff_1__attr_\"abs\"           2.822033e+04  2.367083e-01   \n",
      "2__kurtosis                                       9.619066e+00 -2.425456e+00   \n",
      "2__skewness                                       2.131314e+00 -7.614107e+00   \n",
      "3__fft_coefficient__coeff_0__attr_\"abs\"           4.222836e+04  1.745100e-02   \n",
      "3__fft_coefficient__coeff_1__attr_\"abs\"           2.554205e+04  1.149140e+00   \n",
      "3__kurtosis                                       8.775497e+00 -2.145722e+00   \n",
      "3__skewness                                       1.986927e+00 -7.445896e+00   \n",
      "4__fft_coefficient__coeff_0__attr_\"abs\"           5.735607e+04  4.180100e-02   \n",
      "4__fft_coefficient__coeff_1__attr_\"abs\"           3.189314e+04  2.536212e+00   \n",
      "4__kurtosis                                       8.552450e+00 -1.945264e+00   \n",
      "4__skewness                                       1.905686e+00 -7.339672e+00   \n",
      "5__fft_coefficient__coeff_0__attr_\"abs\"           8.173287e+04  8.507800e-02   \n",
      "5__fft_coefficient__coeff_1__attr_\"abs\"           3.686801e+04  4.187342e+00   \n",
      "5__kurtosis                                       7.396436e+00 -2.206612e+00   \n",
      "5__skewness                                       1.630383e+00 -7.184298e+00   \n",
      "flux__length                                      9.175221e+01  4.700000e+01   \n",
      "flux__longest_strike_above_mean                   1.482250e+01  1.000000e+00   \n",
      "flux__longest_strike_below_mean                   4.844920e+01  1.000000e+00   \n",
      "flux__mean_abs_change                             1.700030e+03  2.381600e+00   \n",
      "flux__mean_change                                 2.748721e+01 -4.387450e+02   \n",
      "flux_by_flux_ratio_sq__longest_strike_above_mean  1.941361e+01  1.000000e+00   \n",
      "flux_by_flux_ratio_sq__longest_strike_below_mean  7.223568e+01  1.000000e+00   \n",
      "mjd__mean_abs_change                              1.081050e+02  8.700000e-03   \n",
      "mjd__mean_change                                  1.081050e+02  8.700000e-03   \n",
      "mjd_diff_det                                      3.480104e+02  1.090000e-02   \n",
      "hostgal_photoz                                    5.455516e-01  0.000000e+00   \n",
      "hostgal_photoz_err                                3.003674e-01  0.000000e+00   \n",
      "distmod                                           2.262711e+00  3.199610e+01   \n",
      "mwebv                                             1.505977e-01  3.000000e-03   \n",
      "haversine                                         5.827418e-01  4.282284e-02   \n",
      "latlon1                                           3.157551e+00 -6.121150e+00   \n",
      "hostgal_photoz_certain                            1.329522e+00  0.000000e+00   \n",
      "\n",
      "                                                           25%            50%  \\\n",
      "flux_min                                            -97.748140     -63.014893   \n",
      "flux_max                                             92.712827     166.902748   \n",
      "flux_mean                                             1.952291       7.054367   \n",
      "flux_median                                           0.233296       0.993680   \n",
      "flux_std                                             22.534987      35.915890   \n",
      "flux_skew                                             0.656051       2.149175   \n",
      "flux_err_min                                          1.046307       1.516784   \n",
      "flux_err_max                                         45.324589      54.928312   \n",
      "flux_err_mean                                         4.421238      12.828899   \n",
      "flux_err_median                                       3.257738       9.393351   \n",
      "flux_err_std                                          4.231706      10.814982   \n",
      "flux_err_skew                                         1.213292       1.499814   \n",
      "detected_mean                                         0.029814       0.071429   \n",
      "flux_ratio_sq_sum                                  1163.388509    4659.903047   \n",
      "flux_ratio_sq_skew                                    4.600050       6.557691   \n",
      "flux_by_flux_ratio_sq_sum                         18387.658261  245633.617776   \n",
      "flux_by_flux_ratio_sq_skew                            4.371290       7.062250   \n",
      "flux_w_mean                                          25.136668      83.231919   \n",
      "flux_diff1                                          160.170960     255.436458   \n",
      "flux_diff2                                           12.395337      22.569265   \n",
      "flux_diff3                                            1.494130       1.986227   \n",
      "0__fft_coefficient__coeff_0__attr_\"abs\"              18.305239      48.102023   \n",
      "0__fft_coefficient__coeff_1__attr_\"abs\"              23.458444      46.555761   \n",
      "0__kurtosis                                          -0.376250       0.634380   \n",
      "0__skewness                                          -0.246774       0.316416   \n",
      "1__fft_coefficient__coeff_0__attr_\"abs\"              17.174671      79.951323   \n",
      "1__fft_coefficient__coeff_1__attr_\"abs\"              15.636640      64.729119   \n",
      "1__kurtosis                                           0.105205       2.999472   \n",
      "1__skewness                                           0.038536       1.276447   \n",
      "2__fft_coefficient__coeff_0__attr_\"abs\"              76.046479     246.346179   \n",
      "2__fft_coefficient__coeff_1__attr_\"abs\"              63.231898     198.328051   \n",
      "2__kurtosis                                           0.802989       4.821736   \n",
      "2__skewness                                           0.427805       1.947666   \n",
      "3__fft_coefficient__coeff_0__attr_\"abs\"              93.025052     275.749970   \n",
      "3__fft_coefficient__coeff_1__attr_\"abs\"              79.165062     222.339731   \n",
      "3__kurtosis                                           0.645124       3.949253   \n",
      "3__skewness                                           0.357315       1.817056   \n",
      "4__fft_coefficient__coeff_0__attr_\"abs\"             144.869882     359.393182   \n",
      "4__fft_coefficient__coeff_1__attr_\"abs\"             129.255762     301.527388   \n",
      "4__kurtosis                                           0.641737       3.415452   \n",
      "4__skewness                                           0.297040       1.609730   \n",
      "5__fft_coefficient__coeff_0__attr_\"abs\"             149.471881     367.008601   \n",
      "5__fft_coefficient__coeff_1__attr_\"abs\"             166.007396     330.686203   \n",
      "5__kurtosis                                           0.163575       1.504293   \n",
      "5__skewness                                           0.013215       0.718874   \n",
      "flux__length                                        122.000000     136.000000   \n",
      "flux__longest_strike_above_mean                       7.000000      10.000000   \n",
      "flux__longest_strike_below_mean                       9.000000      16.000000   \n",
      "flux__mean_abs_change                                15.011102      20.554584   \n",
      "flux__mean_change                                    -0.101453       0.001611   \n",
      "flux_by_flux_ratio_sq__longest_strike_above_mean      3.000000       5.000000   \n",
      "flux_by_flux_ratio_sq__longest_strike_below_mean     44.000000      79.500000   \n",
      "mjd__mean_abs_change                                  4.218475       7.842496   \n",
      "mjd__mean_change                                      4.218475       7.842496   \n",
      "mjd_diff_det                                         40.882500      95.774050   \n",
      "hostgal_photoz                                        0.000000       0.210300   \n",
      "hostgal_photoz_err                                    0.000000       0.018000   \n",
      "distmod                                              39.845250      41.167900   \n",
      "mwebv                                                 0.018000       0.032000   \n",
      "haversine                                             1.164021       1.690880   \n",
      "latlon1                                              -2.941054      -0.987176   \n",
      "hostgal_photoz_certain                                0.000000       0.236039   \n",
      "\n",
      "                                                           75%           max  \n",
      "flux_min                                         -3.720073e+01  5.109941e+02  \n",
      "flux_max                                          3.650707e+02  2.432809e+06  \n",
      "flux_mean                                         1.746234e+01  1.403881e+05  \n",
      "flux_median                                       2.535580e+00  3.087974e+04  \n",
      "flux_std                                          7.584766e+01  2.796894e+05  \n",
      "flux_skew                                         3.441721e+00  1.849729e+01  \n",
      "flux_err_min                                      2.166468e+00  3.276297e+02  \n",
      "flux_err_max                                      6.349475e+01  2.234069e+06  \n",
      "flux_err_mean                                     1.551099e+01  1.047130e+05  \n",
      "flux_err_median                                   1.195244e+01  3.853605e+03  \n",
      "flux_err_std                                      1.239876e+01  3.605993e+05  \n",
      "flux_err_skew                                     1.803128e+00  1.378938e+01  \n",
      "detected_mean                                     1.666667e-01  1.000000e+00  \n",
      "flux_ratio_sq_sum                                 2.592588e+04  1.086076e+07  \n",
      "flux_ratio_sq_skew                                8.634171e+00  1.873359e+01  \n",
      "flux_by_flux_ratio_sq_sum                         2.979438e+06  1.570616e+11  \n",
      "flux_by_flux_ratio_sq_skew                        9.486608e+00  1.876046e+01  \n",
      "flux_w_mean                                       2.013387e+02  1.793980e+05  \n",
      "flux_diff1                                        5.078297e+02  3.582197e+06  \n",
      "flux_diff2                                        4.301897e+01  6.077639e+04  \n",
      "flux_diff3                                        3.085920e+00  2.836464e+03  \n",
      "0__fft_coefficient__coeff_0__attr_\"abs\"           1.675728e+02  2.230438e+06  \n",
      "0__fft_coefficient__coeff_1__attr_\"abs\"           1.393153e+02  4.631342e+06  \n",
      "0__kurtosis                                       2.905992e+00  7.155293e+01  \n",
      "0__skewness                                       1.276045e+00  8.446201e+00  \n",
      "1__fft_coefficient__coeff_0__attr_\"abs\"           3.871591e+02  6.352250e+05  \n",
      "1__fft_coefficient__coeff_1__attr_\"abs\"           2.915286e+02  4.443702e+05  \n",
      "1__kurtosis                                       8.990190e+00  5.777428e+01  \n",
      "1__skewness                                       2.842803e+00  7.593994e+00  \n",
      "2__fft_coefficient__coeff_0__attr_\"abs\"           8.201768e+02  3.741323e+06  \n",
      "2__fft_coefficient__coeff_1__attr_\"abs\"           6.110753e+02  2.428124e+06  \n",
      "2__kurtosis                                       1.183584e+01  5.798279e+01  \n",
      "2__skewness                                       3.143396e+00  7.609116e+00  \n",
      "3__fft_coefficient__coeff_0__attr_\"abs\"           8.380184e+02  3.265140e+06  \n",
      "3__fft_coefficient__coeff_1__attr_\"abs\"           6.382118e+02  2.145546e+06  \n",
      "3__kurtosis                                       9.605804e+00  5.771809e+01  \n",
      "3__skewness                                       2.848140e+00  7.588468e+00  \n",
      "4__fft_coefficient__coeff_0__attr_\"abs\"           9.435420e+02  3.667709e+06  \n",
      "4__fft_coefficient__coeff_1__attr_\"abs\"           7.284919e+02  2.625974e+06  \n",
      "4__kurtosis                                       8.633458e+00  5.792441e+01  \n",
      "4__skewness                                       2.623668e+00  7.608456e+00  \n",
      "5__fft_coefficient__coeff_0__attr_\"abs\"           9.050253e+02  4.046475e+06  \n",
      "5__fft_coefficient__coeff_1__attr_\"abs\"           7.192184e+02  2.876665e+06  \n",
      "5__kurtosis                                       4.586256e+00  5.610575e+01  \n",
      "5__skewness                                       1.783578e+00  7.466092e+00  \n",
      "flux__length                                      2.550000e+02  3.520000e+02  \n",
      "flux__longest_strike_above_mean                   1.600000e+01  2.310000e+02  \n",
      "flux__longest_strike_below_mean                   3.525000e+01  3.310000e+02  \n",
      "flux__mean_abs_change                             3.197212e+01  1.172606e+05  \n",
      "flux__mean_change                                 1.184764e-01  2.246845e+03  \n",
      "flux_by_flux_ratio_sq__longest_strike_above_mean  8.000000e+00  2.830000e+02  \n",
      "flux_by_flux_ratio_sq__longest_strike_below_mean  1.140000e+02  3.460000e+02  \n",
      "mjd__mean_abs_change                              1.900680e+01  1.071030e+03  \n",
      "mjd__mean_change                                  1.900680e+01  1.071030e+03  \n",
      "mjd_diff_det                                      4.740591e+02  1.092845e+03  \n",
      "hostgal_photoz                                    4.312000e-01  2.999400e+00  \n",
      "hostgal_photoz_err                                1.223750e-01  1.734800e+00  \n",
      "distmod                                           4.239855e+01  4.702560e+01  \n",
      "mwebv                                             7.600000e-02  2.747000e+00  \n",
      "haversine                                         1.978942e+00  2.119827e+00  \n",
      "latlon1                                           2.311904e+00  8.805560e+00  \n"
     ]
    },
    {
     "name": "stdout",
     "output_type": "stream",
     "text": [
      "hostgal_photoz_certain                            5.619134e-01  1.192976e+01  \n",
      "Training until validation scores don't improve for 50 rounds.\n",
      "[100]\ttraining's multi_logloss: 0.748001\ttraining's wloss: 0.740435\tvalid_1's multi_logloss: 1.09658\tvalid_1's wloss: 0.930763\n",
      "[200]\ttraining's multi_logloss: 0.490231\ttraining's wloss: 0.480051\tvalid_1's multi_logloss: 0.877558\tvalid_1's wloss: 0.73258\n",
      "[300]\ttraining's multi_logloss: 0.388148\ttraining's wloss: 0.376715\tvalid_1's multi_logloss: 0.80002\tvalid_1's wloss: 0.678281\n",
      "[400]\ttraining's multi_logloss: 0.328864\ttraining's wloss: 0.317237\tvalid_1's multi_logloss: 0.759164\tvalid_1's wloss: 0.66246\n",
      "Early stopping, best iteration is:\n",
      "[441]\ttraining's multi_logloss: 0.309793\ttraining's wloss: 0.298301\tvalid_1's multi_logloss: 0.746759\tvalid_1's wloss: 0.65974\n",
      "no 1-fold loss: 0.6597395002640968\n",
      "Training until validation scores don't improve for 50 rounds.\n",
      "[100]\ttraining's multi_logloss: 0.748392\ttraining's wloss: 0.742681\tvalid_1's multi_logloss: 1.09282\tvalid_1's wloss: 0.945147\n",
      "[200]\ttraining's multi_logloss: 0.490962\ttraining's wloss: 0.482062\tvalid_1's multi_logloss: 0.874989\tvalid_1's wloss: 0.760759\n",
      "[300]\ttraining's multi_logloss: 0.388518\ttraining's wloss: 0.378012\tvalid_1's multi_logloss: 0.798886\tvalid_1's wloss: 0.724442\n",
      "[400]\ttraining's multi_logloss: 0.328555\ttraining's wloss: 0.317957\tvalid_1's multi_logloss: 0.759947\tvalid_1's wloss: 0.716781\n",
      "[500]\ttraining's multi_logloss: 0.285324\ttraining's wloss: 0.274996\tvalid_1's multi_logloss: 0.731336\tvalid_1's wloss: 0.712089\n",
      "Early stopping, best iteration is:\n",
      "[498]\ttraining's multi_logloss: 0.286075\ttraining's wloss: 0.275712\tvalid_1's multi_logloss: 0.731876\tvalid_1's wloss: 0.712075\n",
      "no 2-fold loss: 0.7120753720655445\n",
      "Training until validation scores don't improve for 50 rounds.\n",
      "[100]\ttraining's multi_logloss: 0.750353\ttraining's wloss: 0.743308\tvalid_1's multi_logloss: 1.10802\tvalid_1's wloss: 0.920874\n",
      "[200]\ttraining's multi_logloss: 0.491252\ttraining's wloss: 0.482106\tvalid_1's multi_logloss: 0.881592\tvalid_1's wloss: 0.702979\n",
      "[300]\ttraining's multi_logloss: 0.388933\ttraining's wloss: 0.37875\tvalid_1's multi_logloss: 0.802355\tvalid_1's wloss: 0.648962\n",
      "[400]\ttraining's multi_logloss: 0.329121\ttraining's wloss: 0.318755\tvalid_1's multi_logloss: 0.764916\tvalid_1's wloss: 0.636765\n",
      "[500]\ttraining's multi_logloss: 0.285699\ttraining's wloss: 0.275405\tvalid_1's multi_logloss: 0.735303\tvalid_1's wloss: 0.631011\n",
      "[600]\ttraining's multi_logloss: 0.251778\ttraining's wloss: 0.241853\tvalid_1's multi_logloss: 0.715349\tvalid_1's wloss: 0.631083\n",
      "Early stopping, best iteration is:\n",
      "[553]\ttraining's multi_logloss: 0.266849\ttraining's wloss: 0.256725\tvalid_1's multi_logloss: 0.724035\tvalid_1's wloss: 0.629397\n",
      "no 3-fold loss: 0.6293967274471769\n",
      "Training until validation scores don't improve for 50 rounds.\n",
      "[100]\ttraining's multi_logloss: 0.753609\ttraining's wloss: 0.745273\tvalid_1's multi_logloss: 1.09565\tvalid_1's wloss: 0.905043\n",
      "[200]\ttraining's multi_logloss: 0.492409\ttraining's wloss: 0.482326\tvalid_1's multi_logloss: 0.864327\tvalid_1's wloss: 0.697043\n",
      "[300]\ttraining's multi_logloss: 0.38868\ttraining's wloss: 0.377799\tvalid_1's multi_logloss: 0.782404\tvalid_1's wloss: 0.648093\n",
      "[400]\ttraining's multi_logloss: 0.328491\ttraining's wloss: 0.317643\tvalid_1's multi_logloss: 0.738348\tvalid_1's wloss: 0.636377\n",
      "[500]\ttraining's multi_logloss: 0.285125\ttraining's wloss: 0.274551\tvalid_1's multi_logloss: 0.711545\tvalid_1's wloss: 0.633013\n",
      "Early stopping, best iteration is:\n",
      "[533]\ttraining's multi_logloss: 0.27324\ttraining's wloss: 0.262893\tvalid_1's multi_logloss: 0.704546\tvalid_1's wloss: 0.631854\n",
      "no 4-fold loss: 0.631854186850779\n",
      "Training until validation scores don't improve for 50 rounds.\n",
      "[100]\ttraining's multi_logloss: 0.746971\ttraining's wloss: 0.738015\tvalid_1's multi_logloss: 1.09824\tvalid_1's wloss: 0.934723\n",
      "[200]\ttraining's multi_logloss: 0.48844\ttraining's wloss: 0.478697\tvalid_1's multi_logloss: 0.866329\tvalid_1's wloss: 0.735206\n",
      "[300]\ttraining's multi_logloss: 0.387003\ttraining's wloss: 0.376251\tvalid_1's multi_logloss: 0.781668\tvalid_1's wloss: 0.684156\n",
      "[400]\ttraining's multi_logloss: 0.329059\ttraining's wloss: 0.31817\tvalid_1's multi_logloss: 0.737704\tvalid_1's wloss: 0.667419\n",
      "[500]\ttraining's multi_logloss: 0.286801\ttraining's wloss: 0.276148\tvalid_1's multi_logloss: 0.709401\tvalid_1's wloss: 0.661294\n",
      "[600]\ttraining's multi_logloss: 0.253812\ttraining's wloss: 0.243536\tvalid_1's multi_logloss: 0.688189\tvalid_1's wloss: 0.660368\n",
      "Early stopping, best iteration is:\n",
      "[566]\ttraining's multi_logloss: 0.26439\ttraining's wloss: 0.253878\tvalid_1's multi_logloss: 0.69467\tvalid_1's wloss: 0.659509\n",
      "no 5-fold loss: 0.6595089282425148\n",
      "MULTI WEIGHTED LOG LOSS: 0.65855\n",
      "save to subm_0.658553_2018-12-09-21-42.csv\n"
     ]
    },
    {
     "name": "stderr",
     "output_type": "stream",
     "text": [
      "Feature Extraction: 100%|████████████████████████████████████████████████| 20/20 [00:14<00:00,  1.35it/s]\n",
      "Feature Extraction: 100%|████████████████████████████████████████████████| 20/20 [00:06<00:00,  3.25it/s]\n",
      "Feature Extraction: 100%|████████████████████████████████████████████████| 20/20 [00:03<00:00,  5.72it/s]\n",
      "Feature Extraction: 100%|████████████████████████████████████████████████| 20/20 [00:02<00:00,  7.42it/s]\n"
     ]
    },
    {
     "name": "stdout",
     "output_type": "stream",
     "text": [
      "        5000000 done in   1.4 minutes\n"
     ]
    },
    {
     "name": "stderr",
     "output_type": "stream",
     "text": [
      "Feature Extraction: 100%|████████████████████████████████████████████████| 20/20 [00:14<00:00,  1.41it/s]\n",
      "Feature Extraction: 100%|████████████████████████████████████████████████| 20/20 [00:05<00:00,  3.34it/s]\n",
      "Feature Extraction: 100%|████████████████████████████████████████████████| 20/20 [00:03<00:00,  5.79it/s]\n",
      "Feature Extraction: 100%|████████████████████████████████████████████████| 20/20 [00:02<00:00,  7.42it/s]\n"
     ]
    },
    {
     "name": "stdout",
     "output_type": "stream",
     "text": [
      "       10000000 done in   2.4 minutes\n"
     ]
    },
    {
     "name": "stderr",
     "output_type": "stream",
     "text": [
      "Feature Extraction: 100%|████████████████████████████████████████████████| 20/20 [00:34<00:00,  1.71s/it]\n",
      "Feature Extraction: 100%|████████████████████████████████████████████████| 20/20 [00:07<00:00,  2.62it/s]\n",
      "Feature Extraction: 100%|████████████████████████████████████████████████| 20/20 [00:05<00:00,  3.89it/s]\n",
      "Feature Extraction: 100%|████████████████████████████████████████████████| 20/20 [00:03<00:00,  5.36it/s]\n"
     ]
    },
    {
     "name": "stdout",
     "output_type": "stream",
     "text": [
      "       15000000 done in   4.3 minutes\n"
     ]
    },
    {
     "name": "stderr",
     "output_type": "stream",
     "text": [
      "Feature Extraction: 100%|████████████████████████████████████████████████| 20/20 [00:34<00:00,  1.72s/it]\n",
      "Feature Extraction: 100%|████████████████████████████████████████████████| 20/20 [00:07<00:00,  2.63it/s]\n",
      "Feature Extraction: 100%|████████████████████████████████████████████████| 20/20 [00:05<00:00,  4.00it/s]\n",
      "Feature Extraction: 100%|████████████████████████████████████████████████| 20/20 [00:04<00:00,  4.98it/s]\n"
     ]
    },
    {
     "name": "stdout",
     "output_type": "stream",
     "text": [
      "       20000000 done in   6.2 minutes\n"
     ]
    },
    {
     "name": "stderr",
     "output_type": "stream",
     "text": [
      "Feature Extraction: 100%|████████████████████████████████████████████████| 20/20 [00:36<00:00,  1.83s/it]\n",
      "Feature Extraction: 100%|████████████████████████████████████████████████| 20/20 [00:08<00:00,  2.37it/s]\n",
      "Feature Extraction: 100%|████████████████████████████████████████████████| 20/20 [00:05<00:00,  3.74it/s]\n",
      "Feature Extraction: 100%|████████████████████████████████████████████████| 20/20 [00:04<00:00,  4.47it/s]\n"
     ]
    },
    {
     "name": "stdout",
     "output_type": "stream",
     "text": [
      "       25000000 done in   8.3 minutes\n"
     ]
    },
    {
     "name": "stderr",
     "output_type": "stream",
     "text": [
      "Feature Extraction: 100%|████████████████████████████████████████████████| 20/20 [00:35<00:00,  1.79s/it]\n",
      "Feature Extraction: 100%|████████████████████████████████████████████████| 20/20 [00:07<00:00,  2.54it/s]\n",
      "Feature Extraction: 100%|████████████████████████████████████████████████| 20/20 [00:04<00:00,  4.03it/s]\n",
      "Feature Extraction: 100%|████████████████████████████████████████████████| 20/20 [00:03<00:00,  5.04it/s]\n"
     ]
    },
    {
     "name": "stdout",
     "output_type": "stream",
     "text": [
      "       30000000 done in  10.3 minutes\n"
     ]
    },
    {
     "name": "stderr",
     "output_type": "stream",
     "text": [
      "Feature Extraction: 100%|████████████████████████████████████████████████| 20/20 [00:35<00:00,  1.78s/it]\n",
      "Feature Extraction: 100%|████████████████████████████████████████████████| 20/20 [00:07<00:00,  2.63it/s]\n",
      "Feature Extraction: 100%|████████████████████████████████████████████████| 20/20 [00:05<00:00,  3.96it/s]\n",
      "Feature Extraction: 100%|████████████████████████████████████████████████| 20/20 [00:03<00:00,  5.16it/s]\n"
     ]
    },
    {
     "name": "stdout",
     "output_type": "stream",
     "text": [
      "       35000000 done in  12.3 minutes\n"
     ]
    },
    {
     "name": "stderr",
     "output_type": "stream",
     "text": [
      "Feature Extraction: 100%|████████████████████████████████████████████████| 20/20 [00:36<00:00,  1.84s/it]\n",
      "Feature Extraction: 100%|████████████████████████████████████████████████| 20/20 [00:08<00:00,  2.44it/s]\n",
      "Feature Extraction: 100%|████████████████████████████████████████████████| 20/20 [00:05<00:00,  3.84it/s]\n",
      "Feature Extraction: 100%|████████████████████████████████████████████████| 20/20 [00:03<00:00,  5.05it/s]\n"
     ]
    },
    {
     "name": "stdout",
     "output_type": "stream",
     "text": [
      "       40000000 done in  14.4 minutes\n"
     ]
    },
    {
     "name": "stderr",
     "output_type": "stream",
     "text": [
      "Feature Extraction: 100%|████████████████████████████████████████████████| 20/20 [00:33<00:00,  1.70s/it]\n",
      "Feature Extraction: 100%|████████████████████████████████████████████████| 20/20 [00:07<00:00,  2.55it/s]\n",
      "Feature Extraction: 100%|████████████████████████████████████████████████| 20/20 [00:04<00:00,  4.01it/s]\n",
      "Feature Extraction: 100%|████████████████████████████████████████████████| 20/20 [00:03<00:00,  5.06it/s]\n"
     ]
    },
    {
     "name": "stdout",
     "output_type": "stream",
     "text": [
      "       45000000 done in  16.5 minutes\n"
     ]
    },
    {
     "name": "stderr",
     "output_type": "stream",
     "text": [
      "Feature Extraction: 100%|████████████████████████████████████████████████| 20/20 [00:34<00:00,  1.73s/it]\n",
      "Feature Extraction: 100%|████████████████████████████████████████████████| 20/20 [00:08<00:00,  2.35it/s]\n",
      "Feature Extraction: 100%|████████████████████████████████████████████████| 20/20 [00:05<00:00,  3.56it/s]\n",
      "Feature Extraction: 100%|████████████████████████████████████████████████| 20/20 [00:04<00:00,  4.65it/s]\n"
     ]
    },
    {
     "name": "stdout",
     "output_type": "stream",
     "text": [
      "       50000000 done in  18.6 minutes\n"
     ]
    },
    {
     "name": "stderr",
     "output_type": "stream",
     "text": [
      "Feature Extraction: 100%|████████████████████████████████████████████████| 20/20 [00:36<00:00,  1.84s/it]\n",
      "Feature Extraction: 100%|████████████████████████████████████████████████| 20/20 [00:08<00:00,  2.42it/s]\n",
      "Feature Extraction: 100%|████████████████████████████████████████████████| 20/20 [00:05<00:00,  3.62it/s]\n",
      "Feature Extraction: 100%|████████████████████████████████████████████████| 20/20 [00:04<00:00,  4.67it/s]\n"
     ]
    },
    {
     "name": "stdout",
     "output_type": "stream",
     "text": [
      "       55000000 done in  20.7 minutes\n"
     ]
    },
    {
     "name": "stderr",
     "output_type": "stream",
     "text": [
      "Feature Extraction: 100%|████████████████████████████████████████████████| 20/20 [00:38<00:00,  1.91s/it]\n",
      "Feature Extraction: 100%|████████████████████████████████████████████████| 20/20 [00:08<00:00,  2.38it/s]\n",
      "Feature Extraction: 100%|████████████████████████████████████████████████| 20/20 [00:05<00:00,  3.59it/s]\n",
      "Feature Extraction: 100%|████████████████████████████████████████████████| 20/20 [00:04<00:00,  4.62it/s]\n"
     ]
    },
    {
     "name": "stdout",
     "output_type": "stream",
     "text": [
      "       60000000 done in  22.9 minutes\n"
     ]
    },
    {
     "name": "stderr",
     "output_type": "stream",
     "text": [
      "Feature Extraction: 100%|████████████████████████████████████████████████| 20/20 [00:34<00:00,  1.70s/it]\n",
      "Feature Extraction: 100%|████████████████████████████████████████████████| 20/20 [00:07<00:00,  2.64it/s]\n",
      "Feature Extraction: 100%|████████████████████████████████████████████████| 20/20 [00:04<00:00,  4.04it/s]\n",
      "Feature Extraction: 100%|████████████████████████████████████████████████| 20/20 [00:04<00:00,  4.92it/s]\n"
     ]
    },
    {
     "name": "stdout",
     "output_type": "stream",
     "text": [
      "       65000000 done in  24.9 minutes\n"
     ]
    },
    {
     "name": "stderr",
     "output_type": "stream",
     "text": [
      "Feature Extraction: 100%|████████████████████████████████████████████████| 20/20 [00:35<00:00,  1.76s/it]\n",
      "Feature Extraction: 100%|████████████████████████████████████████████████| 20/20 [00:07<00:00,  2.61it/s]\n",
      "Feature Extraction: 100%|████████████████████████████████████████████████| 20/20 [00:05<00:00,  3.89it/s]\n",
      "Feature Extraction: 100%|████████████████████████████████████████████████| 20/20 [00:03<00:00,  5.12it/s]\n"
     ]
    },
    {
     "name": "stdout",
     "output_type": "stream",
     "text": [
      "       70000000 done in  26.9 minutes\n"
     ]
    },
    {
     "name": "stderr",
     "output_type": "stream",
     "text": [
      "Feature Extraction: 100%|████████████████████████████████████████████████| 20/20 [00:35<00:00,  1.80s/it]\n",
      "Feature Extraction: 100%|████████████████████████████████████████████████| 20/20 [00:07<00:00,  2.60it/s]\n",
      "Feature Extraction: 100%|████████████████████████████████████████████████| 20/20 [00:05<00:00,  3.80it/s]\n",
      "Feature Extraction: 100%|████████████████████████████████████████████████| 20/20 [00:03<00:00,  5.19it/s]\n"
     ]
    },
    {
     "name": "stdout",
     "output_type": "stream",
     "text": [
      "       75000000 done in  28.9 minutes\n"
     ]
    },
    {
     "name": "stderr",
     "output_type": "stream",
     "text": [
      "Feature Extraction: 100%|████████████████████████████████████████████████| 20/20 [00:36<00:00,  1.82s/it]\n",
      "Feature Extraction: 100%|████████████████████████████████████████████████| 20/20 [00:07<00:00,  2.55it/s]\n",
      "Feature Extraction: 100%|████████████████████████████████████████████████| 20/20 [00:04<00:00,  4.00it/s]\n",
      "Feature Extraction: 100%|████████████████████████████████████████████████| 20/20 [00:03<00:00,  5.16it/s]\n"
     ]
    },
    {
     "name": "stdout",
     "output_type": "stream",
     "text": [
      "       80000000 done in  30.9 minutes\n"
     ]
    },
    {
     "name": "stderr",
     "output_type": "stream",
     "text": [
      "Feature Extraction: 100%|████████████████████████████████████████████████| 20/20 [00:36<00:00,  1.83s/it]\n",
      "Feature Extraction: 100%|████████████████████████████████████████████████| 20/20 [00:07<00:00,  2.59it/s]\n",
      "Feature Extraction: 100%|████████████████████████████████████████████████| 20/20 [00:05<00:00,  3.87it/s]\n",
      "Feature Extraction: 100%|████████████████████████████████████████████████| 20/20 [00:03<00:00,  5.03it/s]\n"
     ]
    },
    {
     "name": "stdout",
     "output_type": "stream",
     "text": [
      "       85000000 done in  32.9 minutes\n"
     ]
    },
    {
     "name": "stderr",
     "output_type": "stream",
     "text": [
      "Feature Extraction: 100%|████████████████████████████████████████████████| 20/20 [00:36<00:00,  1.82s/it]\n",
      "Feature Extraction: 100%|████████████████████████████████████████████████| 20/20 [00:07<00:00,  2.51it/s]\n",
      "Feature Extraction: 100%|████████████████████████████████████████████████| 20/20 [00:05<00:00,  3.87it/s]\n",
      "Feature Extraction: 100%|████████████████████████████████████████████████| 20/20 [00:04<00:00,  4.87it/s]\n"
     ]
    },
    {
     "name": "stdout",
     "output_type": "stream",
     "text": [
      "       90000000 done in  35.0 minutes\n"
     ]
    },
    {
     "name": "stderr",
     "output_type": "stream",
     "text": [
      "Feature Extraction: 100%|████████████████████████████████████████████████| 20/20 [00:35<00:00,  1.76s/it]\n",
      "Feature Extraction: 100%|████████████████████████████████████████████████| 20/20 [00:07<00:00,  2.56it/s]\n",
      "Feature Extraction: 100%|████████████████████████████████████████████████| 20/20 [00:05<00:00,  3.85it/s]\n",
      "Feature Extraction: 100%|████████████████████████████████████████████████| 20/20 [00:04<00:00,  4.82it/s]\n"
     ]
    },
    {
     "name": "stdout",
     "output_type": "stream",
     "text": [
      "       95000000 done in  37.0 minutes\n"
     ]
    },
    {
     "name": "stderr",
     "output_type": "stream",
     "text": [
      "Feature Extraction: 100%|████████████████████████████████████████████████| 20/20 [00:34<00:00,  1.74s/it]\n",
      "Feature Extraction: 100%|████████████████████████████████████████████████| 20/20 [00:07<00:00,  2.67it/s]\n",
      "Feature Extraction: 100%|████████████████████████████████████████████████| 20/20 [00:05<00:00,  3.93it/s]\n",
      "Feature Extraction: 100%|████████████████████████████████████████████████| 20/20 [00:04<00:00,  4.94it/s]\n"
     ]
    },
    {
     "name": "stdout",
     "output_type": "stream",
     "text": [
      "      100000000 done in  39.0 minutes\n"
     ]
    },
    {
     "name": "stderr",
     "output_type": "stream",
     "text": [
      "Feature Extraction: 100%|████████████████████████████████████████████████| 20/20 [00:35<00:00,  1.78s/it]\n",
      "Feature Extraction: 100%|████████████████████████████████████████████████| 20/20 [00:07<00:00,  2.63it/s]\n",
      "Feature Extraction: 100%|████████████████████████████████████████████████| 20/20 [00:05<00:00,  3.72it/s]\n",
      "Feature Extraction: 100%|████████████████████████████████████████████████| 20/20 [00:04<00:00,  4.90it/s]\n"
     ]
    },
    {
     "name": "stdout",
     "output_type": "stream",
     "text": [
      "      105000000 done in  41.0 minutes\n"
     ]
    },
    {
     "name": "stderr",
     "output_type": "stream",
     "text": [
      "Feature Extraction: 100%|████████████████████████████████████████████████| 20/20 [00:37<00:00,  1.86s/it]\n",
      "Feature Extraction: 100%|████████████████████████████████████████████████| 20/20 [00:08<00:00,  2.30it/s]\n",
      "Feature Extraction: 100%|████████████████████████████████████████████████| 20/20 [00:05<00:00,  3.94it/s]\n",
      "Feature Extraction: 100%|████████████████████████████████████████████████| 20/20 [00:03<00:00,  5.15it/s]\n"
     ]
    },
    {
     "name": "stdout",
     "output_type": "stream",
     "text": [
      "      110000000 done in  43.1 minutes\n"
     ]
    },
    {
     "name": "stderr",
     "output_type": "stream",
     "text": [
      "Feature Extraction: 100%|████████████████████████████████████████████████| 20/20 [00:35<00:00,  1.80s/it]\n",
      "Feature Extraction: 100%|████████████████████████████████████████████████| 20/20 [00:08<00:00,  2.31it/s]\n",
      "Feature Extraction: 100%|████████████████████████████████████████████████| 20/20 [00:04<00:00,  4.00it/s]\n",
      "Feature Extraction: 100%|████████████████████████████████████████████████| 20/20 [00:03<00:00,  5.03it/s]\n"
     ]
    },
    {
     "name": "stdout",
     "output_type": "stream",
     "text": [
      "      115000000 done in  45.1 minutes\n"
     ]
    },
    {
     "name": "stderr",
     "output_type": "stream",
     "text": [
      "Feature Extraction: 100%|████████████████████████████████████████████████| 20/20 [00:35<00:00,  1.77s/it]\n",
      "Feature Extraction: 100%|████████████████████████████████████████████████| 20/20 [00:07<00:00,  2.62it/s]\n",
      "Feature Extraction: 100%|████████████████████████████████████████████████| 20/20 [00:05<00:00,  3.99it/s]\n",
      "Feature Extraction: 100%|████████████████████████████████████████████████| 20/20 [00:03<00:00,  5.10it/s]\n"
     ]
    },
    {
     "name": "stdout",
     "output_type": "stream",
     "text": [
      "      120000000 done in  47.1 minutes\n"
     ]
    },
    {
     "name": "stderr",
     "output_type": "stream",
     "text": [
      "Feature Extraction: 100%|████████████████████████████████████████████████| 20/20 [00:33<00:00,  1.70s/it]\n",
      "Feature Extraction: 100%|████████████████████████████████████████████████| 20/20 [00:07<00:00,  2.57it/s]\n",
      "Feature Extraction: 100%|████████████████████████████████████████████████| 20/20 [00:04<00:00,  4.05it/s]\n",
      "Feature Extraction: 100%|████████████████████████████████████████████████| 20/20 [00:03<00:00,  5.12it/s]\n"
     ]
    },
    {
     "name": "stdout",
     "output_type": "stream",
     "text": [
      "      125000000 done in  49.1 minutes\n"
     ]
    },
    {
     "name": "stderr",
     "output_type": "stream",
     "text": [
      "Feature Extraction: 100%|████████████████████████████████████████████████| 20/20 [00:34<00:00,  1.72s/it]\n",
      "Feature Extraction: 100%|████████████████████████████████████████████████| 20/20 [00:07<00:00,  2.67it/s]\n",
      "Feature Extraction: 100%|████████████████████████████████████████████████| 20/20 [00:04<00:00,  4.11it/s]\n",
      "Feature Extraction: 100%|████████████████████████████████████████████████| 20/20 [00:03<00:00,  5.31it/s]\n"
     ]
    },
    {
     "name": "stdout",
     "output_type": "stream",
     "text": [
      "      130000000 done in  51.0 minutes\n"
     ]
    },
    {
     "name": "stderr",
     "output_type": "stream",
     "text": [
      "Feature Extraction: 100%|████████████████████████████████████████████████| 20/20 [00:34<00:00,  1.70s/it]\n",
      "Feature Extraction: 100%|████████████████████████████████████████████████| 20/20 [00:07<00:00,  2.65it/s]\n",
      "Feature Extraction: 100%|████████████████████████████████████████████████| 20/20 [00:04<00:00,  4.01it/s]\n",
      "Feature Extraction: 100%|████████████████████████████████████████████████| 20/20 [00:03<00:00,  5.13it/s]\n"
     ]
    },
    {
     "name": "stdout",
     "output_type": "stream",
     "text": [
      "      135000000 done in  53.0 minutes\n"
     ]
    },
    {
     "name": "stderr",
     "output_type": "stream",
     "text": [
      "Feature Extraction: 100%|████████████████████████████████████████████████| 20/20 [00:34<00:00,  1.73s/it]\n",
      "Feature Extraction: 100%|████████████████████████████████████████████████| 20/20 [00:07<00:00,  2.70it/s]\n",
      "Feature Extraction: 100%|████████████████████████████████████████████████| 20/20 [00:04<00:00,  4.02it/s]\n",
      "Feature Extraction: 100%|████████████████████████████████████████████████| 20/20 [00:03<00:00,  5.13it/s]\n"
     ]
    },
    {
     "name": "stdout",
     "output_type": "stream",
     "text": [
      "      140000000 done in  54.9 minutes\n"
     ]
    },
    {
     "name": "stderr",
     "output_type": "stream",
     "text": [
      "Feature Extraction: 100%|████████████████████████████████████████████████| 20/20 [00:34<00:00,  1.71s/it]\n",
      "Feature Extraction: 100%|████████████████████████████████████████████████| 20/20 [00:07<00:00,  2.60it/s]\n",
      "Feature Extraction: 100%|████████████████████████████████████████████████| 20/20 [00:05<00:00,  3.86it/s]\n",
      "Feature Extraction: 100%|████████████████████████████████████████████████| 20/20 [00:04<00:00,  4.88it/s]\n"
     ]
    },
    {
     "name": "stdout",
     "output_type": "stream",
     "text": [
      "      145000000 done in  56.9 minutes\n"
     ]
    },
    {
     "name": "stderr",
     "output_type": "stream",
     "text": [
      "Feature Extraction: 100%|████████████████████████████████████████████████| 20/20 [00:34<00:00,  1.72s/it]\n",
      "Feature Extraction: 100%|████████████████████████████████████████████████| 20/20 [00:08<00:00,  2.41it/s]\n",
      "Feature Extraction: 100%|████████████████████████████████████████████████| 20/20 [00:05<00:00,  3.93it/s]\n",
      "Feature Extraction: 100%|████████████████████████████████████████████████| 20/20 [00:03<00:00,  5.09it/s]\n"
     ]
    },
    {
     "name": "stdout",
     "output_type": "stream",
     "text": [
      "      150000000 done in  58.9 minutes\n"
     ]
    },
    {
     "name": "stderr",
     "output_type": "stream",
     "text": [
      "Feature Extraction: 100%|████████████████████████████████████████████████| 20/20 [00:34<00:00,  1.74s/it]\n",
      "Feature Extraction: 100%|████████████████████████████████████████████████| 20/20 [00:07<00:00,  2.61it/s]\n",
      "Feature Extraction: 100%|████████████████████████████████████████████████| 20/20 [00:05<00:00,  3.98it/s]\n",
      "Feature Extraction: 100%|████████████████████████████████████████████████| 20/20 [00:03<00:00,  5.26it/s]\n"
     ]
    },
    {
     "name": "stdout",
     "output_type": "stream",
     "text": [
      "      155000000 done in  60.8 minutes\n"
     ]
    },
    {
     "name": "stderr",
     "output_type": "stream",
     "text": [
      "Feature Extraction: 100%|████████████████████████████████████████████████| 20/20 [00:34<00:00,  1.73s/it]\n",
      "Feature Extraction: 100%|████████████████████████████████████████████████| 20/20 [00:07<00:00,  2.58it/s]\n",
      "Feature Extraction: 100%|████████████████████████████████████████████████| 20/20 [00:05<00:00,  3.94it/s]\n",
      "Feature Extraction: 100%|████████████████████████████████████████████████| 20/20 [00:03<00:00,  5.01it/s]\n"
     ]
    },
    {
     "name": "stdout",
     "output_type": "stream",
     "text": [
      "      160000000 done in  62.8 minutes\n"
     ]
    },
    {
     "name": "stderr",
     "output_type": "stream",
     "text": [
      "Feature Extraction: 100%|████████████████████████████████████████████████| 20/20 [00:35<00:00,  1.79s/it]\n",
      "Feature Extraction: 100%|████████████████████████████████████████████████| 20/20 [00:07<00:00,  2.53it/s]\n",
      "Feature Extraction: 100%|████████████████████████████████████████████████| 20/20 [00:05<00:00,  3.83it/s]\n",
      "Feature Extraction: 100%|████████████████████████████████████████████████| 20/20 [00:04<00:00,  4.99it/s]\n"
     ]
    },
    {
     "name": "stdout",
     "output_type": "stream",
     "text": [
      "      165000000 done in  64.8 minutes\n"
     ]
    },
    {
     "name": "stderr",
     "output_type": "stream",
     "text": [
      "Feature Extraction: 100%|████████████████████████████████████████████████| 20/20 [00:35<00:00,  1.78s/it]\n",
      "Feature Extraction: 100%|████████████████████████████████████████████████| 20/20 [00:08<00:00,  2.36it/s]\n",
      "Feature Extraction: 100%|████████████████████████████████████████████████| 20/20 [00:05<00:00,  3.76it/s]\n",
      "Feature Extraction: 100%|████████████████████████████████████████████████| 20/20 [00:04<00:00,  4.94it/s]\n"
     ]
    },
    {
     "name": "stdout",
     "output_type": "stream",
     "text": [
      "      170000000 done in  66.8 minutes\n"
     ]
    },
    {
     "name": "stderr",
     "output_type": "stream",
     "text": [
      "Feature Extraction: 100%|████████████████████████████████████████████████| 20/20 [00:35<00:00,  1.76s/it]\n",
      "Feature Extraction: 100%|████████████████████████████████████████████████| 20/20 [00:07<00:00,  2.65it/s]\n",
      "Feature Extraction: 100%|████████████████████████████████████████████████| 20/20 [00:04<00:00,  4.01it/s]\n",
      "Feature Extraction: 100%|████████████████████████████████████████████████| 20/20 [00:04<00:00,  4.78it/s]\n"
     ]
    },
    {
     "name": "stdout",
     "output_type": "stream",
     "text": [
      "      175000000 done in  68.8 minutes\n"
     ]
    },
    {
     "name": "stderr",
     "output_type": "stream",
     "text": [
      "Feature Extraction: 100%|████████████████████████████████████████████████| 20/20 [00:34<00:00,  1.74s/it]\n",
      "Feature Extraction: 100%|████████████████████████████████████████████████| 20/20 [00:07<00:00,  2.63it/s]\n",
      "Feature Extraction: 100%|████████████████████████████████████████████████| 20/20 [00:04<00:00,  4.07it/s]\n",
      "Feature Extraction: 100%|████████████████████████████████████████████████| 20/20 [00:03<00:00,  5.03it/s]\n"
     ]
    },
    {
     "name": "stdout",
     "output_type": "stream",
     "text": [
      "      180000000 done in  70.8 minutes\n"
     ]
    },
    {
     "name": "stderr",
     "output_type": "stream",
     "text": [
      "Feature Extraction: 100%|████████████████████████████████████████████████| 20/20 [00:34<00:00,  1.74s/it]\n",
      "Feature Extraction: 100%|████████████████████████████████████████████████| 20/20 [00:07<00:00,  2.67it/s]\n",
      "Feature Extraction: 100%|████████████████████████████████████████████████| 20/20 [00:04<00:00,  4.09it/s]\n",
      "Feature Extraction: 100%|████████████████████████████████████████████████| 20/20 [00:03<00:00,  5.25it/s]\n"
     ]
    },
    {
     "name": "stdout",
     "output_type": "stream",
     "text": [
      "      185000000 done in  72.8 minutes\n"
     ]
    },
    {
     "name": "stderr",
     "output_type": "stream",
     "text": [
      "Feature Extraction: 100%|████████████████████████████████████████████████| 20/20 [00:40<00:00,  2.05s/it]\n",
      "Feature Extraction: 100%|████████████████████████████████████████████████| 20/20 [00:08<00:00,  2.35it/s]\n",
      "Feature Extraction: 100%|████████████████████████████████████████████████| 20/20 [00:05<00:00,  3.46it/s]\n",
      "Feature Extraction: 100%|████████████████████████████████████████████████| 20/20 [00:04<00:00,  4.64it/s]\n"
     ]
    },
    {
     "name": "stdout",
     "output_type": "stream",
     "text": [
      "      190000000 done in  74.9 minutes\n"
     ]
    },
    {
     "name": "stderr",
     "output_type": "stream",
     "text": [
      "Feature Extraction: 100%|████████████████████████████████████████████████| 20/20 [00:34<00:00,  1.72s/it]\n",
      "Feature Extraction: 100%|████████████████████████████████████████████████| 20/20 [00:07<00:00,  2.56it/s]\n",
      "Feature Extraction: 100%|████████████████████████████████████████████████| 20/20 [00:05<00:00,  3.99it/s]\n",
      "Feature Extraction: 100%|████████████████████████████████████████████████| 20/20 [00:03<00:00,  5.12it/s]\n"
     ]
    },
    {
     "name": "stdout",
     "output_type": "stream",
     "text": [
      "      195000000 done in  76.9 minutes\n"
     ]
    },
    {
     "name": "stderr",
     "output_type": "stream",
     "text": [
      "Feature Extraction: 100%|████████████████████████████████████████████████| 20/20 [00:34<00:00,  1.70s/it]\n",
      "Feature Extraction: 100%|████████████████████████████████████████████████| 20/20 [00:07<00:00,  2.65it/s]\n",
      "Feature Extraction: 100%|████████████████████████████████████████████████| 20/20 [00:04<00:00,  4.04it/s]\n",
      "Feature Extraction: 100%|████████████████████████████████████████████████| 20/20 [00:03<00:00,  5.21it/s]\n"
     ]
    },
    {
     "name": "stdout",
     "output_type": "stream",
     "text": [
      "      200000000 done in  78.8 minutes\n"
     ]
    },
    {
     "name": "stderr",
     "output_type": "stream",
     "text": [
      "Feature Extraction: 100%|████████████████████████████████████████████████| 20/20 [00:34<00:00,  1.72s/it]\n",
      "Feature Extraction: 100%|████████████████████████████████████████████████| 20/20 [00:07<00:00,  2.66it/s]\n",
      "Feature Extraction: 100%|████████████████████████████████████████████████| 20/20 [00:04<00:00,  4.01it/s]\n",
      "Feature Extraction: 100%|████████████████████████████████████████████████| 20/20 [00:03<00:00,  5.14it/s]\n"
     ]
    },
    {
     "name": "stdout",
     "output_type": "stream",
     "text": [
      "      205000000 done in  80.8 minutes\n"
     ]
    },
    {
     "name": "stderr",
     "output_type": "stream",
     "text": [
      "Feature Extraction: 100%|████████████████████████████████████████████████| 20/20 [00:34<00:00,  1.72s/it]\n",
      "Feature Extraction: 100%|████████████████████████████████████████████████| 20/20 [00:07<00:00,  2.61it/s]\n",
      "Feature Extraction: 100%|████████████████████████████████████████████████| 20/20 [00:05<00:00,  3.90it/s]\n",
      "Feature Extraction: 100%|████████████████████████████████████████████████| 20/20 [00:03<00:00,  5.29it/s]\n"
     ]
    },
    {
     "name": "stdout",
     "output_type": "stream",
     "text": [
      "      210000000 done in  82.7 minutes\n"
     ]
    },
    {
     "name": "stderr",
     "output_type": "stream",
     "text": [
      "Feature Extraction: 100%|████████████████████████████████████████████████| 20/20 [00:34<00:00,  1.71s/it]\n",
      "Feature Extraction: 100%|████████████████████████████████████████████████| 20/20 [00:07<00:00,  2.64it/s]\n",
      "Feature Extraction: 100%|████████████████████████████████████████████████| 20/20 [00:05<00:00,  3.99it/s]\n",
      "Feature Extraction: 100%|████████████████████████████████████████████████| 20/20 [00:03<00:00,  5.16it/s]\n"
     ]
    },
    {
     "name": "stdout",
     "output_type": "stream",
     "text": [
      "      215000000 done in  84.7 minutes\n"
     ]
    },
    {
     "name": "stderr",
     "output_type": "stream",
     "text": [
      "Feature Extraction: 100%|████████████████████████████████████████████████| 20/20 [00:34<00:00,  1.72s/it]\n",
      "Feature Extraction: 100%|████████████████████████████████████████████████| 20/20 [00:07<00:00,  2.65it/s]\n",
      "Feature Extraction: 100%|████████████████████████████████████████████████| 20/20 [00:04<00:00,  4.01it/s]\n",
      "Feature Extraction: 100%|████████████████████████████████████████████████| 20/20 [00:03<00:00,  5.25it/s]\n"
     ]
    },
    {
     "name": "stdout",
     "output_type": "stream",
     "text": [
      "      220000000 done in  86.7 minutes\n"
     ]
    },
    {
     "name": "stderr",
     "output_type": "stream",
     "text": [
      "Feature Extraction: 100%|████████████████████████████████████████████████| 20/20 [00:34<00:00,  1.71s/it]\n",
      "Feature Extraction: 100%|████████████████████████████████████████████████| 20/20 [00:07<00:00,  2.61it/s]\n",
      "Feature Extraction: 100%|████████████████████████████████████████████████| 20/20 [00:05<00:00,  4.00it/s]\n",
      "Feature Extraction: 100%|████████████████████████████████████████████████| 20/20 [00:04<00:00,  4.97it/s]\n"
     ]
    },
    {
     "name": "stdout",
     "output_type": "stream",
     "text": [
      "      225000000 done in  88.6 minutes\n"
     ]
    },
    {
     "name": "stderr",
     "output_type": "stream",
     "text": [
      "Feature Extraction: 100%|████████████████████████████████████████████████| 20/20 [00:34<00:00,  1.74s/it]\n",
      "Feature Extraction: 100%|████████████████████████████████████████████████| 20/20 [00:07<00:00,  2.64it/s]\n",
      "Feature Extraction: 100%|████████████████████████████████████████████████| 20/20 [00:04<00:00,  4.02it/s]\n",
      "Feature Extraction: 100%|████████████████████████████████████████████████| 20/20 [00:03<00:00,  5.05it/s]\n"
     ]
    },
    {
     "name": "stdout",
     "output_type": "stream",
     "text": [
      "      230000000 done in  90.6 minutes\n"
     ]
    },
    {
     "name": "stderr",
     "output_type": "stream",
     "text": [
      "Feature Extraction: 100%|████████████████████████████████████████████████| 20/20 [00:34<00:00,  1.74s/it]\n",
      "Feature Extraction: 100%|████████████████████████████████████████████████| 20/20 [00:07<00:00,  2.60it/s]\n",
      "Feature Extraction: 100%|████████████████████████████████████████████████| 20/20 [00:05<00:00,  3.87it/s]\n",
      "Feature Extraction: 100%|████████████████████████████████████████████████| 20/20 [00:03<00:00,  5.06it/s]\n"
     ]
    },
    {
     "name": "stdout",
     "output_type": "stream",
     "text": [
      "      235000000 done in  92.6 minutes\n"
     ]
    },
    {
     "name": "stderr",
     "output_type": "stream",
     "text": [
      "Feature Extraction: 100%|████████████████████████████████████████████████| 20/20 [00:36<00:00,  1.82s/it]\n",
      "Feature Extraction: 100%|████████████████████████████████████████████████| 20/20 [00:07<00:00,  2.60it/s]\n",
      "Feature Extraction: 100%|████████████████████████████████████████████████| 20/20 [00:05<00:00,  3.99it/s]\n",
      "Feature Extraction: 100%|████████████████████████████████████████████████| 20/20 [00:03<00:00,  5.16it/s]\n"
     ]
    },
    {
     "name": "stdout",
     "output_type": "stream",
     "text": [
      "      240000000 done in  94.6 minutes\n"
     ]
    },
    {
     "name": "stderr",
     "output_type": "stream",
     "text": [
      "Feature Extraction: 100%|████████████████████████████████████████████████| 20/20 [00:34<00:00,  1.74s/it]\n",
      "Feature Extraction: 100%|████████████████████████████████████████████████| 20/20 [00:08<00:00,  2.47it/s]\n",
      "Feature Extraction: 100%|████████████████████████████████████████████████| 20/20 [00:04<00:00,  4.04it/s]\n",
      "Feature Extraction: 100%|████████████████████████████████████████████████| 20/20 [00:04<00:00,  4.68it/s]\n"
     ]
    },
    {
     "name": "stdout",
     "output_type": "stream",
     "text": [
      "      245000000 done in  96.6 minutes\n"
     ]
    },
    {
     "name": "stderr",
     "output_type": "stream",
     "text": [
      "Feature Extraction: 100%|████████████████████████████████████████████████| 20/20 [00:35<00:00,  1.76s/it]\n",
      "Feature Extraction: 100%|████████████████████████████████████████████████| 20/20 [00:08<00:00,  2.44it/s]\n",
      "Feature Extraction: 100%|████████████████████████████████████████████████| 20/20 [00:04<00:00,  4.01it/s]\n",
      "Feature Extraction: 100%|████████████████████████████████████████████████| 20/20 [00:04<00:00,  4.97it/s]\n"
     ]
    },
    {
     "name": "stdout",
     "output_type": "stream",
     "text": [
      "      250000000 done in  98.6 minutes\n"
     ]
    },
    {
     "name": "stderr",
     "output_type": "stream",
     "text": [
      "Feature Extraction: 100%|████████████████████████████████████████████████| 20/20 [00:38<00:00,  1.90s/it]\n",
      "Feature Extraction: 100%|████████████████████████████████████████████████| 20/20 [00:08<00:00,  2.48it/s]\n",
      "Feature Extraction: 100%|████████████████████████████████████████████████| 20/20 [00:05<00:00,  3.71it/s]\n",
      "Feature Extraction: 100%|████████████████████████████████████████████████| 20/20 [00:04<00:00,  4.39it/s]\n"
     ]
    },
    {
     "name": "stdout",
     "output_type": "stream",
     "text": [
      "      255000000 done in 100.7 minutes\n"
     ]
    },
    {
     "name": "stderr",
     "output_type": "stream",
     "text": [
      "Feature Extraction: 100%|████████████████████████████████████████████████| 20/20 [00:36<00:00,  1.82s/it]\n",
      "Feature Extraction: 100%|████████████████████████████████████████████████| 20/20 [00:08<00:00,  2.44it/s]\n",
      "Feature Extraction: 100%|████████████████████████████████████████████████| 20/20 [00:05<00:00,  3.80it/s]\n",
      "Feature Extraction: 100%|████████████████████████████████████████████████| 20/20 [00:04<00:00,  4.96it/s]\n"
     ]
    },
    {
     "name": "stdout",
     "output_type": "stream",
     "text": [
      "      260000000 done in 102.8 minutes\n"
     ]
    },
    {
     "name": "stderr",
     "output_type": "stream",
     "text": [
      "Feature Extraction: 100%|████████████████████████████████████████████████| 20/20 [00:35<00:00,  1.80s/it]\n",
      "Feature Extraction: 100%|████████████████████████████████████████████████| 20/20 [00:08<00:00,  2.37it/s]\n",
      "Feature Extraction: 100%|████████████████████████████████████████████████| 20/20 [00:04<00:00,  4.02it/s]\n",
      "Feature Extraction: 100%|████████████████████████████████████████████████| 20/20 [00:03<00:00,  5.03it/s]\n"
     ]
    },
    {
     "name": "stdout",
     "output_type": "stream",
     "text": [
      "      265000000 done in 104.8 minutes\n"
     ]
    },
    {
     "name": "stderr",
     "output_type": "stream",
     "text": [
      "Feature Extraction: 100%|████████████████████████████████████████████████| 20/20 [00:36<00:00,  1.83s/it]\n",
      "Feature Extraction: 100%|████████████████████████████████████████████████| 20/20 [00:07<00:00,  2.57it/s]\n",
      "Feature Extraction: 100%|████████████████████████████████████████████████| 20/20 [00:05<00:00,  3.99it/s]\n",
      "Feature Extraction: 100%|████████████████████████████████████████████████| 20/20 [00:04<00:00,  4.96it/s]\n"
     ]
    },
    {
     "name": "stdout",
     "output_type": "stream",
     "text": [
      "      270000000 done in 106.8 minutes\n"
     ]
    },
    {
     "name": "stderr",
     "output_type": "stream",
     "text": [
      "Feature Extraction: 100%|████████████████████████████████████████████████| 20/20 [00:35<00:00,  1.76s/it]\n",
      "Feature Extraction: 100%|████████████████████████████████████████████████| 20/20 [00:07<00:00,  2.59it/s]\n",
      "Feature Extraction: 100%|████████████████████████████████████████████████| 20/20 [00:05<00:00,  3.90it/s]\n",
      "Feature Extraction: 100%|████████████████████████████████████████████████| 20/20 [00:03<00:00,  5.07it/s]\n"
     ]
    },
    {
     "name": "stdout",
     "output_type": "stream",
     "text": [
      "      275000000 done in 108.8 minutes\n"
     ]
    },
    {
     "name": "stderr",
     "output_type": "stream",
     "text": [
      "Feature Extraction: 100%|████████████████████████████████████████████████| 20/20 [00:34<00:00,  1.75s/it]\n",
      "Feature Extraction: 100%|████████████████████████████████████████████████| 20/20 [00:07<00:00,  2.58it/s]\n",
      "Feature Extraction: 100%|████████████████████████████████████████████████| 20/20 [00:04<00:00,  4.07it/s]\n",
      "Feature Extraction: 100%|████████████████████████████████████████████████| 20/20 [00:04<00:00,  4.96it/s]\n"
     ]
    },
    {
     "name": "stdout",
     "output_type": "stream",
     "text": [
      "      280000000 done in 110.8 minutes\n"
     ]
    },
    {
     "name": "stderr",
     "output_type": "stream",
     "text": [
      "Feature Extraction: 100%|████████████████████████████████████████████████| 20/20 [00:34<00:00,  1.74s/it]\n",
      "Feature Extraction: 100%|████████████████████████████████████████████████| 20/20 [00:07<00:00,  2.62it/s]\n",
      "Feature Extraction: 100%|████████████████████████████████████████████████| 20/20 [00:05<00:00,  3.98it/s]\n",
      "Feature Extraction: 100%|████████████████████████████████████████████████| 20/20 [00:03<00:00,  5.02it/s]\n"
     ]
    },
    {
     "name": "stdout",
     "output_type": "stream",
     "text": [
      "      285000000 done in 112.8 minutes\n"
     ]
    },
    {
     "name": "stderr",
     "output_type": "stream",
     "text": [
      "Feature Extraction: 100%|████████████████████████████████████████████████| 20/20 [00:35<00:00,  1.77s/it]\n",
      "Feature Extraction: 100%|████████████████████████████████████████████████| 20/20 [00:07<00:00,  2.60it/s]\n",
      "Feature Extraction: 100%|████████████████████████████████████████████████| 20/20 [00:05<00:00,  3.96it/s]\n",
      "Feature Extraction: 100%|████████████████████████████████████████████████| 20/20 [00:03<00:00,  5.01it/s]\n"
     ]
    },
    {
     "name": "stdout",
     "output_type": "stream",
     "text": [
      "      290000000 done in 114.8 minutes\n"
     ]
    },
    {
     "name": "stderr",
     "output_type": "stream",
     "text": [
      "Feature Extraction: 100%|████████████████████████████████████████████████| 20/20 [00:34<00:00,  1.75s/it]\n",
      "Feature Extraction: 100%|████████████████████████████████████████████████| 20/20 [00:07<00:00,  2.61it/s]\n",
      "Feature Extraction: 100%|████████████████████████████████████████████████| 20/20 [00:05<00:00,  3.93it/s]\n",
      "Feature Extraction: 100%|████████████████████████████████████████████████| 20/20 [00:04<00:00,  4.98it/s]\n"
     ]
    },
    {
     "name": "stdout",
     "output_type": "stream",
     "text": [
      "      295000000 done in 116.8 minutes\n"
     ]
    },
    {
     "name": "stderr",
     "output_type": "stream",
     "text": [
      "Feature Extraction: 100%|████████████████████████████████████████████████| 20/20 [00:34<00:00,  1.74s/it]\n",
      "Feature Extraction: 100%|████████████████████████████████████████████████| 20/20 [00:07<00:00,  2.61it/s]\n",
      "Feature Extraction: 100%|████████████████████████████████████████████████| 20/20 [00:05<00:00,  3.91it/s]\n",
      "Feature Extraction: 100%|████████████████████████████████████████████████| 20/20 [00:03<00:00,  5.14it/s]\n"
     ]
    },
    {
     "name": "stdout",
     "output_type": "stream",
     "text": [
      "      300000000 done in 118.8 minutes\n"
     ]
    },
    {
     "name": "stderr",
     "output_type": "stream",
     "text": [
      "Feature Extraction: 100%|████████████████████████████████████████████████| 20/20 [00:35<00:00,  1.77s/it]\n",
      "Feature Extraction: 100%|████████████████████████████████████████████████| 20/20 [00:07<00:00,  2.63it/s]\n",
      "Feature Extraction: 100%|████████████████████████████████████████████████| 20/20 [00:04<00:00,  4.01it/s]\n",
      "Feature Extraction: 100%|████████████████████████████████████████████████| 20/20 [00:03<00:00,  5.18it/s]\n"
     ]
    },
    {
     "name": "stdout",
     "output_type": "stream",
     "text": [
      "      305000000 done in 120.8 minutes\n"
     ]
    },
    {
     "name": "stderr",
     "output_type": "stream",
     "text": [
      "Feature Extraction: 100%|████████████████████████████████████████████████| 20/20 [00:35<00:00,  1.77s/it]\n",
      "Feature Extraction: 100%|████████████████████████████████████████████████| 20/20 [00:07<00:00,  2.55it/s]\n",
      "Feature Extraction: 100%|████████████████████████████████████████████████| 20/20 [00:05<00:00,  3.93it/s]\n",
      "Feature Extraction: 100%|████████████████████████████████████████████████| 20/20 [00:04<00:00,  4.39it/s]\n"
     ]
    },
    {
     "name": "stdout",
     "output_type": "stream",
     "text": [
      "      310000000 done in 122.8 minutes\n"
     ]
    },
    {
     "name": "stderr",
     "output_type": "stream",
     "text": [
      "Feature Extraction: 100%|████████████████████████████████████████████████| 20/20 [00:35<00:00,  1.78s/it]\n",
      "Feature Extraction: 100%|████████████████████████████████████████████████| 20/20 [00:07<00:00,  2.58it/s]\n",
      "Feature Extraction: 100%|████████████████████████████████████████████████| 20/20 [00:05<00:00,  3.81it/s]\n",
      "Feature Extraction: 100%|████████████████████████████████████████████████| 20/20 [00:03<00:00,  5.12it/s]\n"
     ]
    },
    {
     "name": "stdout",
     "output_type": "stream",
     "text": [
      "      315000000 done in 124.9 minutes\n"
     ]
    },
    {
     "name": "stderr",
     "output_type": "stream",
     "text": [
      "Feature Extraction: 100%|████████████████████████████████████████████████| 20/20 [00:35<00:00,  1.78s/it]\n",
      "Feature Extraction: 100%|████████████████████████████████████████████████| 20/20 [00:07<00:00,  2.61it/s]\n",
      "Feature Extraction: 100%|████████████████████████████████████████████████| 20/20 [00:05<00:00,  3.90it/s]\n",
      "Feature Extraction: 100%|████████████████████████████████████████████████| 20/20 [00:04<00:00,  4.95it/s]\n"
     ]
    },
    {
     "name": "stdout",
     "output_type": "stream",
     "text": [
      "      320000000 done in 126.9 minutes\n"
     ]
    },
    {
     "name": "stderr",
     "output_type": "stream",
     "text": [
      "Feature Extraction: 100%|████████████████████████████████████████████████| 20/20 [00:35<00:00,  1.76s/it]\n",
      "Feature Extraction: 100%|████████████████████████████████████████████████| 20/20 [00:07<00:00,  2.61it/s]\n",
      "Feature Extraction: 100%|████████████████████████████████████████████████| 20/20 [00:05<00:00,  3.94it/s]\n",
      "Feature Extraction: 100%|████████████████████████████████████████████████| 20/20 [00:03<00:00,  5.22it/s]\n"
     ]
    },
    {
     "name": "stdout",
     "output_type": "stream",
     "text": [
      "      325000000 done in 128.9 minutes\n"
     ]
    },
    {
     "name": "stderr",
     "output_type": "stream",
     "text": [
      "Feature Extraction: 100%|████████████████████████████████████████████████| 20/20 [00:35<00:00,  1.79s/it]\n",
      "Feature Extraction: 100%|████████████████████████████████████████████████| 20/20 [00:07<00:00,  2.53it/s]\n",
      "Feature Extraction: 100%|████████████████████████████████████████████████| 20/20 [00:05<00:00,  3.92it/s]\n",
      "Feature Extraction: 100%|████████████████████████████████████████████████| 20/20 [00:04<00:00,  4.96it/s]\n"
     ]
    },
    {
     "name": "stdout",
     "output_type": "stream",
     "text": [
      "      330000000 done in 131.0 minutes\n"
     ]
    },
    {
     "name": "stderr",
     "output_type": "stream",
     "text": [
      "Feature Extraction: 100%|████████████████████████████████████████████████| 20/20 [00:35<00:00,  1.77s/it]\n",
      "Feature Extraction: 100%|████████████████████████████████████████████████| 20/20 [00:07<00:00,  2.58it/s]\n",
      "Feature Extraction: 100%|████████████████████████████████████████████████| 20/20 [00:05<00:00,  3.90it/s]\n",
      "Feature Extraction: 100%|████████████████████████████████████████████████| 20/20 [00:04<00:00,  4.91it/s]\n"
     ]
    },
    {
     "name": "stdout",
     "output_type": "stream",
     "text": [
      "      335000000 done in 132.9 minutes\n"
     ]
    },
    {
     "name": "stderr",
     "output_type": "stream",
     "text": [
      "Feature Extraction: 100%|████████████████████████████████████████████████| 20/20 [00:35<00:00,  1.78s/it]\n",
      "Feature Extraction: 100%|████████████████████████████████████████████████| 20/20 [00:07<00:00,  2.57it/s]\n",
      "Feature Extraction: 100%|████████████████████████████████████████████████| 20/20 [00:05<00:00,  3.82it/s]\n",
      "Feature Extraction: 100%|████████████████████████████████████████████████| 20/20 [00:04<00:00,  4.83it/s]\n"
     ]
    },
    {
     "name": "stdout",
     "output_type": "stream",
     "text": [
      "      340000000 done in 134.9 minutes\n"
     ]
    },
    {
     "name": "stderr",
     "output_type": "stream",
     "text": [
      "Feature Extraction: 100%|████████████████████████████████████████████████| 20/20 [00:35<00:00,  1.75s/it]\n",
      "Feature Extraction: 100%|████████████████████████████████████████████████| 20/20 [00:07<00:00,  2.62it/s]\n",
      "Feature Extraction: 100%|████████████████████████████████████████████████| 20/20 [00:05<00:00,  3.91it/s]\n",
      "Feature Extraction: 100%|████████████████████████████████████████████████| 20/20 [00:03<00:00,  5.19it/s]\n"
     ]
    },
    {
     "name": "stdout",
     "output_type": "stream",
     "text": [
      "      345000000 done in 136.9 minutes\n"
     ]
    },
    {
     "name": "stderr",
     "output_type": "stream",
     "text": [
      "Feature Extraction: 100%|████████████████████████████████████████████████| 20/20 [00:34<00:00,  1.74s/it]\n",
      "Feature Extraction: 100%|████████████████████████████████████████████████| 20/20 [00:07<00:00,  2.55it/s]\n",
      "Feature Extraction: 100%|████████████████████████████████████████████████| 20/20 [00:05<00:00,  4.00it/s]\n",
      "Feature Extraction: 100%|████████████████████████████████████████████████| 20/20 [00:03<00:00,  5.03it/s]\n"
     ]
    },
    {
     "name": "stdout",
     "output_type": "stream",
     "text": [
      "      350000000 done in 138.9 minutes\n"
     ]
    },
    {
     "name": "stderr",
     "output_type": "stream",
     "text": [
      "Feature Extraction: 100%|████████████████████████████████████████████████| 20/20 [00:34<00:00,  1.70s/it]\n",
      "Feature Extraction: 100%|████████████████████████████████████████████████| 20/20 [00:07<00:00,  2.64it/s]\n",
      "Feature Extraction: 100%|████████████████████████████████████████████████| 20/20 [00:05<00:00,  3.96it/s]\n",
      "Feature Extraction: 100%|████████████████████████████████████████████████| 20/20 [00:05<00:00,  3.66it/s]\n"
     ]
    },
    {
     "name": "stdout",
     "output_type": "stream",
     "text": [
      "      355000000 done in 141.0 minutes\n"
     ]
    },
    {
     "name": "stderr",
     "output_type": "stream",
     "text": [
      "Feature Extraction: 100%|████████████████████████████████████████████████| 20/20 [00:47<00:00,  2.37s/it]\n",
      "Feature Extraction: 100%|████████████████████████████████████████████████| 20/20 [00:10<00:00,  1.97it/s]\n",
      "Feature Extraction: 100%|████████████████████████████████████████████████| 20/20 [00:07<00:00,  2.84it/s]\n",
      "Feature Extraction: 100%|████████████████████████████████████████████████| 20/20 [00:05<00:00,  3.54it/s]\n"
     ]
    },
    {
     "name": "stdout",
     "output_type": "stream",
     "text": [
      "      360000000 done in 143.7 minutes\n"
     ]
    },
    {
     "name": "stderr",
     "output_type": "stream",
     "text": [
      "Feature Extraction: 100%|████████████████████████████████████████████████| 20/20 [00:43<00:00,  2.17s/it]\n",
      "Feature Extraction: 100%|████████████████████████████████████████████████| 20/20 [00:11<00:00,  1.69it/s]\n",
      "Feature Extraction: 100%|████████████████████████████████████████████████| 20/20 [00:07<00:00,  2.67it/s]\n",
      "Feature Extraction: 100%|████████████████████████████████████████████████| 20/20 [00:06<00:00,  3.23it/s]\n"
     ]
    },
    {
     "name": "stdout",
     "output_type": "stream",
     "text": [
      "      365000000 done in 146.4 minutes\n"
     ]
    },
    {
     "name": "stderr",
     "output_type": "stream",
     "text": [
      "Feature Extraction: 100%|████████████████████████████████████████████████| 20/20 [00:46<00:00,  2.31s/it]\n",
      "Feature Extraction: 100%|████████████████████████████████████████████████| 20/20 [00:09<00:00,  2.05it/s]\n",
      "Feature Extraction: 100%|████████████████████████████████████████████████| 20/20 [00:06<00:00,  2.99it/s]\n",
      "Feature Extraction: 100%|████████████████████████████████████████████████| 20/20 [00:05<00:00,  3.69it/s]\n"
     ]
    },
    {
     "name": "stdout",
     "output_type": "stream",
     "text": [
      "      370000000 done in 149.0 minutes\n"
     ]
    },
    {
     "name": "stderr",
     "output_type": "stream",
     "text": [
      "Feature Extraction: 100%|████████████████████████████████████████████████| 20/20 [00:44<00:00,  2.21s/it]\n",
      "Feature Extraction: 100%|████████████████████████████████████████████████| 20/20 [00:09<00:00,  2.11it/s]\n",
      "Feature Extraction: 100%|████████████████████████████████████████████████| 20/20 [00:06<00:00,  2.95it/s]\n",
      "Feature Extraction: 100%|████████████████████████████████████████████████| 20/20 [00:05<00:00,  3.68it/s]\n"
     ]
    },
    {
     "name": "stdout",
     "output_type": "stream",
     "text": [
      "      375000000 done in 151.6 minutes\n"
     ]
    },
    {
     "name": "stderr",
     "output_type": "stream",
     "text": [
      "Feature Extraction: 100%|████████████████████████████████████████████████| 20/20 [00:45<00:00,  2.28s/it]\n",
      "Feature Extraction: 100%|████████████████████████████████████████████████| 20/20 [00:10<00:00,  1.98it/s]\n",
      "Feature Extraction: 100%|████████████████████████████████████████████████| 20/20 [00:06<00:00,  2.94it/s]\n",
      "Feature Extraction: 100%|████████████████████████████████████████████████| 20/20 [00:05<00:00,  3.62it/s]\n"
     ]
    },
    {
     "name": "stdout",
     "output_type": "stream",
     "text": [
      "      380000000 done in 154.2 minutes\n"
     ]
    },
    {
     "name": "stderr",
     "output_type": "stream",
     "text": [
      "Feature Extraction: 100%|████████████████████████████████████████████████| 20/20 [00:43<00:00,  2.19s/it]\n",
      "Feature Extraction: 100%|████████████████████████████████████████████████| 20/20 [00:09<00:00,  2.07it/s]\n",
      "Feature Extraction: 100%|████████████████████████████████████████████████| 20/20 [00:06<00:00,  2.97it/s]\n",
      "Feature Extraction: 100%|████████████████████████████████████████████████| 20/20 [00:05<00:00,  3.70it/s]\n"
     ]
    },
    {
     "name": "stdout",
     "output_type": "stream",
     "text": [
      "      385000000 done in 156.8 minutes\n"
     ]
    },
    {
     "name": "stderr",
     "output_type": "stream",
     "text": [
      "Feature Extraction: 100%|████████████████████████████████████████████████| 20/20 [00:43<00:00,  2.19s/it]\n",
      "Feature Extraction: 100%|████████████████████████████████████████████████| 20/20 [00:09<00:00,  2.08it/s]\n",
      "Feature Extraction: 100%|████████████████████████████████████████████████| 20/20 [00:06<00:00,  3.02it/s]\n",
      "Feature Extraction: 100%|████████████████████████████████████████████████| 20/20 [00:05<00:00,  3.81it/s]\n"
     ]
    },
    {
     "name": "stdout",
     "output_type": "stream",
     "text": [
      "      390000000 done in 159.3 minutes\n"
     ]
    },
    {
     "name": "stderr",
     "output_type": "stream",
     "text": [
      "Feature Extraction: 100%|████████████████████████████████████████████████| 20/20 [00:43<00:00,  2.16s/it]\n",
      "Feature Extraction: 100%|████████████████████████████████████████████████| 20/20 [00:09<00:00,  2.07it/s]\n",
      "Feature Extraction: 100%|████████████████████████████████████████████████| 20/20 [00:06<00:00,  3.05it/s]\n",
      "Feature Extraction: 100%|████████████████████████████████████████████████| 20/20 [00:05<00:00,  3.83it/s]\n"
     ]
    },
    {
     "name": "stdout",
     "output_type": "stream",
     "text": [
      "      395000000 done in 161.8 minutes\n"
     ]
    },
    {
     "name": "stderr",
     "output_type": "stream",
     "text": [
      "Feature Extraction: 100%|████████████████████████████████████████████████| 20/20 [00:43<00:00,  2.18s/it]\n",
      "Feature Extraction: 100%|████████████████████████████████████████████████| 20/20 [00:09<00:00,  2.09it/s]\n",
      "Feature Extraction: 100%|████████████████████████████████████████████████| 20/20 [00:06<00:00,  2.91it/s]\n",
      "Feature Extraction: 100%|████████████████████████████████████████████████| 20/20 [00:05<00:00,  3.79it/s]\n"
     ]
    },
    {
     "name": "stdout",
     "output_type": "stream",
     "text": [
      "      400000000 done in 164.3 minutes\n"
     ]
    },
    {
     "name": "stderr",
     "output_type": "stream",
     "text": [
      "Feature Extraction: 100%|████████████████████████████████████████████████| 20/20 [00:46<00:00,  2.32s/it]\n",
      "Feature Extraction: 100%|████████████████████████████████████████████████| 20/20 [00:10<00:00,  1.96it/s]\n",
      "Feature Extraction: 100%|████████████████████████████████████████████████| 20/20 [00:06<00:00,  2.90it/s]\n",
      "Feature Extraction: 100%|████████████████████████████████████████████████| 20/20 [00:05<00:00,  3.52it/s]\n"
     ]
    },
    {
     "name": "stdout",
     "output_type": "stream",
     "text": [
      "      405000000 done in 167.0 minutes\n"
     ]
    },
    {
     "name": "stderr",
     "output_type": "stream",
     "text": [
      "Feature Extraction: 100%|████████████████████████████████████████████████| 20/20 [00:47<00:00,  2.36s/it]\n",
      "Feature Extraction: 100%|████████████████████████████████████████████████| 20/20 [00:10<00:00,  1.96it/s]\n",
      "Feature Extraction: 100%|████████████████████████████████████████████████| 20/20 [00:06<00:00,  2.98it/s]\n",
      "Feature Extraction: 100%|████████████████████████████████████████████████| 20/20 [00:05<00:00,  3.78it/s]\n"
     ]
    },
    {
     "name": "stdout",
     "output_type": "stream",
     "text": [
      "      410000000 done in 169.6 minutes\n"
     ]
    },
    {
     "name": "stderr",
     "output_type": "stream",
     "text": [
      "Feature Extraction: 100%|████████████████████████████████████████████████| 20/20 [00:44<00:00,  2.23s/it]\n",
      "Feature Extraction: 100%|████████████████████████████████████████████████| 20/20 [00:09<00:00,  2.14it/s]\n",
      "Feature Extraction: 100%|████████████████████████████████████████████████| 20/20 [00:06<00:00,  3.30it/s]\n",
      "Feature Extraction: 100%|████████████████████████████████████████████████| 20/20 [00:04<00:00,  4.25it/s]\n"
     ]
    },
    {
     "name": "stdout",
     "output_type": "stream",
     "text": [
      "      415000000 done in 172.1 minutes\n"
     ]
    },
    {
     "name": "stderr",
     "output_type": "stream",
     "text": [
      "Feature Extraction: 100%|████████████████████████████████████████████████| 20/20 [00:41<00:00,  2.09s/it]\n",
      "Feature Extraction: 100%|████████████████████████████████████████████████| 20/20 [00:08<00:00,  2.23it/s]\n",
      "Feature Extraction: 100%|████████████████████████████████████████████████| 20/20 [00:05<00:00,  3.83it/s]\n",
      "Feature Extraction: 100%|████████████████████████████████████████████████| 20/20 [00:04<00:00,  4.97it/s]\n"
     ]
    },
    {
     "name": "stdout",
     "output_type": "stream",
     "text": [
      "      420000000 done in 174.3 minutes\n"
     ]
    },
    {
     "name": "stderr",
     "output_type": "stream",
     "text": [
      "Feature Extraction: 100%|████████████████████████████████████████████████| 20/20 [00:35<00:00,  1.75s/it]\n",
      "Feature Extraction: 100%|████████████████████████████████████████████████| 20/20 [00:07<00:00,  2.62it/s]\n",
      "Feature Extraction: 100%|████████████████████████████████████████████████| 20/20 [00:05<00:00,  3.95it/s]\n",
      "Feature Extraction: 100%|████████████████████████████████████████████████| 20/20 [00:04<00:00,  5.00it/s]\n"
     ]
    },
    {
     "name": "stdout",
     "output_type": "stream",
     "text": [
      "      425000000 done in 176.3 minutes\n"
     ]
    },
    {
     "name": "stderr",
     "output_type": "stream",
     "text": [
      "Feature Extraction: 100%|████████████████████████████████████████████████| 20/20 [00:35<00:00,  1.79s/it]\n",
      "Feature Extraction: 100%|████████████████████████████████████████████████| 20/20 [00:07<00:00,  2.63it/s]\n",
      "Feature Extraction: 100%|████████████████████████████████████████████████| 20/20 [00:04<00:00,  4.12it/s]\n",
      "Feature Extraction: 100%|████████████████████████████████████████████████| 20/20 [00:03<00:00,  5.10it/s]\n"
     ]
    },
    {
     "name": "stdout",
     "output_type": "stream",
     "text": [
      "      430000000 done in 178.3 minutes\n"
     ]
    },
    {
     "name": "stderr",
     "output_type": "stream",
     "text": [
      "Feature Extraction: 100%|████████████████████████████████████████████████| 20/20 [00:33<00:00,  1.68s/it]\n",
      "Feature Extraction: 100%|████████████████████████████████████████████████| 20/20 [00:07<00:00,  2.70it/s]\n",
      "Feature Extraction: 100%|████████████████████████████████████████████████| 20/20 [00:04<00:00,  4.08it/s]\n",
      "Feature Extraction: 100%|████████████████████████████████████████████████| 20/20 [00:03<00:00,  5.24it/s]\n"
     ]
    },
    {
     "name": "stdout",
     "output_type": "stream",
     "text": [
      "      435000000 done in 180.2 minutes\n"
     ]
    },
    {
     "name": "stderr",
     "output_type": "stream",
     "text": [
      "Feature Extraction: 100%|████████████████████████████████████████████████| 20/20 [00:33<00:00,  1.69s/it]\n",
      "Feature Extraction: 100%|████████████████████████████████████████████████| 20/20 [00:07<00:00,  2.69it/s]\n",
      "Feature Extraction: 100%|████████████████████████████████████████████████| 20/20 [00:05<00:00,  3.90it/s]\n",
      "Feature Extraction: 100%|████████████████████████████████████████████████| 20/20 [00:03<00:00,  5.19it/s]\n"
     ]
    },
    {
     "name": "stdout",
     "output_type": "stream",
     "text": [
      "      440000000 done in 182.1 minutes\n"
     ]
    },
    {
     "name": "stderr",
     "output_type": "stream",
     "text": [
      "Feature Extraction: 100%|████████████████████████████████████████████████| 20/20 [00:33<00:00,  1.67s/it]\n",
      "Feature Extraction: 100%|████████████████████████████████████████████████| 20/20 [00:07<00:00,  2.66it/s]\n",
      "Feature Extraction: 100%|████████████████████████████████████████████████| 20/20 [00:05<00:00,  3.87it/s]\n",
      "Feature Extraction: 100%|████████████████████████████████████████████████| 20/20 [00:04<00:00,  4.93it/s]\n"
     ]
    },
    {
     "name": "stdout",
     "output_type": "stream",
     "text": [
      "      445000000 done in 184.0 minutes\n"
     ]
    },
    {
     "name": "stderr",
     "output_type": "stream",
     "text": [
      "Feature Extraction: 100%|████████████████████████████████████████████████| 20/20 [00:33<00:00,  1.68s/it]\n",
      "Feature Extraction: 100%|████████████████████████████████████████████████| 20/20 [00:07<00:00,  2.65it/s]\n",
      "Feature Extraction: 100%|████████████████████████████████████████████████| 20/20 [00:04<00:00,  4.30it/s]\n",
      "Feature Extraction: 100%|████████████████████████████████████████████████| 20/20 [00:03<00:00,  5.21it/s]\n"
     ]
    },
    {
     "name": "stdout",
     "output_type": "stream",
     "text": [
      "      450000000 done in 185.9 minutes\n"
     ]
    },
    {
     "name": "stderr",
     "output_type": "stream",
     "text": [
      "Feature Extraction: 100%|████████████████████████████████████████████████| 20/20 [00:24<00:00,  1.24s/it]\n",
      "Feature Extraction: 100%|████████████████████████████████████████████████| 20/20 [00:05<00:00,  3.49it/s]\n",
      "Feature Extraction: 100%|████████████████████████████████████████████████| 20/20 [00:03<00:00,  5.13it/s]\n",
      "Feature Extraction: 100%|████████████████████████████████████████████████| 20/20 [00:03<00:00,  6.43it/s]\n"
     ]
    },
    {
     "name": "stdout",
     "output_type": "stream",
     "text": [
      "      455000000 done in 187.4 minutes\n"
     ]
    },
    {
     "name": "stderr",
     "output_type": "stream",
     "text": [
      "Feature Extraction: 100%|██████████████████████████████████████████████████| 6/6 [00:01<00:00,  4.14it/s]\n",
      "Feature Extraction: 100%|██████████████████████████████████████████████████| 1/1 [00:01<00:00,  1.22s/it]\n",
      "Feature Extraction: 100%|██████████████████████████████████████████████████| 1/1 [00:01<00:00,  1.17s/it]\n",
      "Feature Extraction: 100%|██████████████████████████████████████████████████| 1/1 [00:01<00:00,  1.15s/it]\n"
     ]
    },
    {
     "name": "stdout",
     "output_type": "stream",
     "text": [
      "Shape BEFORE grouping: (3492891, 16)\n",
      "Shape AFTER grouping: (3492890, 15)\n"
     ]
    }
   ],
   "source": [
    "\"\"\"\n",
    "This script is forked from iprapas's notebook \n",
    "https://www.kaggle.com/iprapas/ideas-from-kernels-and-discussion-lb-1-135\n",
    "\n",
    "#    https://www.kaggle.com/ogrellier/plasticc-in-a-kernel-meta-and-data\n",
    "#    https://www.kaggle.com/c/PLAsTiCC-2018/discussion/70908\n",
    "#    https://www.kaggle.com/meaninglesslives/simple-neural-net-for-time-series-classification\n",
    "#\n",
    "\"\"\"\n",
    "\n",
    "import sys, os\n",
    "import argparse\n",
    "import time\n",
    "from datetime import datetime as dt\n",
    "import gc; gc.enable()\n",
    "from functools import partial, wraps\n",
    "\n",
    "import pandas as pd # data processing, CSV file I/O (e.g. pd.read_csv)\n",
    "import numpy as np # linear algebra\n",
    "np.warnings.filterwarnings('ignore')\n",
    "\n",
    "from sklearn.model_selection import StratifiedKFold\n",
    "from tsfresh.feature_extraction import extract_features\n",
    "from xgboost import XGBClassifier\n",
    "from lightgbm import LGBMClassifier\n",
    "from scipy.optimize import least_squares\n",
    "\n",
    "from numba import jit\n",
    "\n",
    "\n",
    "@jit\n",
    "def haversine_plus(lon1, lat1, lon2, lat2):\n",
    "    \"\"\"\n",
    "    Calculate the great circle distance between two points \n",
    "    on the earth (specified in decimal degrees) from \n",
    "    #https://stackoverflow.com/questions/4913349/haversine-formula-in-python-bearing-and-distance-between-two-gps-points\n",
    "    \"\"\"\n",
    "    #Convert decimal degrees to Radians:\n",
    "    lon1 = np.radians(lon1)\n",
    "    lat1 = np.radians(lat1)\n",
    "    lon2 = np.radians(lon2)\n",
    "    lat2 = np.radians(lat2)\n",
    "\n",
    "    #Implementing Haversine Formula: \n",
    "    dlon = np.subtract(lon2, lon1)\n",
    "    dlat = np.subtract(lat2, lat1)\n",
    "\n",
    "    a = np.add(np.power(np.sin(np.divide(dlat, 2)), 2),  \n",
    "                          np.multiply(np.cos(lat1), \n",
    "                                      np.multiply(np.cos(lat2), \n",
    "                                                  np.power(np.sin(np.divide(dlon, 2)), 2))))\n",
    "    \n",
    "    haversine = np.multiply(2, np.arcsin(np.sqrt(a)))\n",
    "    return {\n",
    "        'haversine': haversine, \n",
    "        'latlon1': np.subtract(np.multiply(lon1, lat1), np.multiply(lon2, lat2)), \n",
    "   }\n",
    "\n",
    "\n",
    "@jit\n",
    "def process_flux(df):\n",
    "    flux_ratio_sq = np.power(df['flux'].values / df['flux_err'].values, 2.0)\n",
    "\n",
    "    df_flux = pd.DataFrame({\n",
    "        'flux_ratio_sq': flux_ratio_sq, \n",
    "        'flux_by_flux_ratio_sq': df['flux'].values * flux_ratio_sq,}, \n",
    "        index=df.index)\n",
    "    \n",
    "    return pd.concat([df, df_flux], axis=1)\n",
    "\n",
    "\n",
    "@jit\n",
    "def process_flux_agg(df):\n",
    "    flux_w_mean = df['flux_by_flux_ratio_sq_sum'].values / df['flux_ratio_sq_sum'].values\n",
    "    flux_diff = df['flux_max'].values - df['flux_min'].values\n",
    "    \n",
    "    df_flux_agg = pd.DataFrame({\n",
    "        'flux_w_mean': flux_w_mean,\n",
    "        'flux_diff1': flux_diff,\n",
    "        'flux_diff2': flux_diff / df['flux_mean'].values,       \n",
    "        'flux_diff3': flux_diff /flux_w_mean,\n",
    "        }, index=df.index)\n",
    "    \n",
    "    return pd.concat([df, df_flux_agg], axis=1)\n",
    "    \n",
    "\n",
    "def featurize(df, df_meta, aggs, fcp, n_jobs=4):\n",
    "    \"\"\"\n",
    "    Extracting Features from train set\n",
    "    Features from olivier's kernel\n",
    "    very smart and powerful feature that is generously given here https://www.kaggle.com/c/PLAsTiCC-2018/discussion/69696#410538\n",
    "    per passband features with tsfresh library. fft features added to capture periodicity https://www.kaggle.com/c/PLAsTiCC-2018/discussion/70346#415506\n",
    "    \"\"\"\n",
    "    \n",
    "    df = process_flux(df)\n",
    "\n",
    "    agg_df = df.groupby('object_id').agg(aggs)\n",
    "    agg_df.columns = [ '{}_{}'.format(k, agg) for k in aggs.keys() for agg in aggs[k]]\n",
    "    agg_df = process_flux_agg(agg_df) # new feature to play with tsfresh\n",
    "\n",
    "    # Add more features with\n",
    "    agg_df_ts_flux_passband = extract_features(df, \n",
    "                                               column_id='object_id', \n",
    "                                               column_sort='mjd', \n",
    "                                               column_kind='passband', \n",
    "                                               column_value='flux', \n",
    "                                               default_fc_parameters=fcp['flux_passband'], n_jobs=n_jobs)\n",
    "\n",
    "    agg_df_ts_flux = extract_features(df, \n",
    "                                      column_id='object_id', \n",
    "                                      column_value='flux', \n",
    "                                      default_fc_parameters=fcp['flux'], n_jobs=n_jobs)\n",
    "\n",
    "    agg_df_ts_flux_by_flux_ratio_sq = extract_features(df, \n",
    "                                      column_id='object_id', \n",
    "                                      column_value='flux_by_flux_ratio_sq', \n",
    "                                      default_fc_parameters=fcp['flux_by_flux_ratio_sq'], n_jobs=n_jobs)\n",
    "\n",
    "    # Add smart feature that is suggested here https://www.kaggle.com/c/PLAsTiCC-2018/discussion/69696#410538\n",
    "    # dt[detected==1, mjd_diff:=max(mjd)-min(mjd), by=object_id]\n",
    "    df_det = df[df['detected']==1].copy()\n",
    "    agg_df_mjd = extract_features(df_det, \n",
    "                                  column_id='object_id', \n",
    "                                  column_value='mjd', \n",
    "                                  default_fc_parameters=fcp['mjd'], n_jobs=n_jobs)\n",
    "    agg_df_mjd['mjd_diff_det'] = agg_df_mjd['mjd__maximum'].values - agg_df_mjd['mjd__minimum'].values\n",
    "    del agg_df_mjd['mjd__maximum'], agg_df_mjd['mjd__minimum']\n",
    "    \n",
    "    agg_df_ts_flux_passband.index.rename('object_id', inplace=True) \n",
    "    agg_df_ts_flux.index.rename('object_id', inplace=True) \n",
    "    agg_df_ts_flux_by_flux_ratio_sq.index.rename('object_id', inplace=True) \n",
    "    agg_df_mjd.index.rename('object_id', inplace=True)      \n",
    "    agg_df_ts = pd.concat([agg_df, \n",
    "                           agg_df_ts_flux_passband, \n",
    "                           agg_df_ts_flux, \n",
    "                           agg_df_ts_flux_by_flux_ratio_sq, \n",
    "                           agg_df_mjd], axis=1).reset_index()\n",
    "    \n",
    "    result = agg_df_ts.merge(right=df_meta, how='left', on='object_id')\n",
    "    return result\n",
    "\n",
    "\n",
    "def process_meta(filename):\n",
    "    meta_df = pd.read_csv(filename)\n",
    "    \n",
    "    meta_dict = dict()\n",
    "    # distance\n",
    "    meta_dict.update(haversine_plus(meta_df['ra'].values, meta_df['decl'].values, \n",
    "                   meta_df['gal_l'].values, meta_df['gal_b'].values))\n",
    "    #\n",
    "    meta_dict['hostgal_photoz_certain'] = np.multiply(\n",
    "            meta_df['hostgal_photoz'].values, \n",
    "             np.exp(meta_df['hostgal_photoz_err'].values))\n",
    "    \n",
    "    meta_df = pd.concat([meta_df, pd.DataFrame(meta_dict, index=meta_df.index)], axis=1)\n",
    "    return meta_df\n",
    "\n",
    "\n",
    "def multi_weighted_logloss(y_true, y_preds, classes, class_weights):\n",
    "    \"\"\"\n",
    "    refactor from\n",
    "    @author olivier https://www.kaggle.com/ogrellier\n",
    "    multi logloss for PLAsTiCC challenge\n",
    "    \"\"\"\n",
    "    y_p = y_preds.reshape(y_true.shape[0], len(classes), order='F')\n",
    "    # Trasform y_true in dummies\n",
    "    y_ohe = pd.get_dummies(y_true)\n",
    "    # Normalize rows and limit y_preds to 1e-15, 1-1e-15\n",
    "    y_p = np.clip(a=y_p, a_min=1e-15, a_max=1 - 1e-15)\n",
    "    # Transform to log\n",
    "    y_p_log = np.log(y_p)\n",
    "    # Get the log for ones, .values is used to drop the index of DataFrames\n",
    "    # Exclude class 99 for now, since there is no class99 in the training set\n",
    "    # we gave a special process for that class\n",
    "    y_log_ones = np.sum(y_ohe.values * y_p_log, axis=0)\n",
    "    # Get the number of positives for each class\n",
    "    nb_pos = y_ohe.sum(axis=0).values.astype(float)\n",
    "    # Weight average and divide by the number of positives\n",
    "    class_arr = np.array([class_weights[k] for k in sorted(class_weights.keys())])\n",
    "    y_w = y_log_ones * class_arr / nb_pos\n",
    "\n",
    "    loss = - np.sum(y_w) / np.sum(class_arr)\n",
    "    return loss\n",
    "\n",
    "\n",
    "def lgbm_multi_weighted_logloss(y_true, y_preds):\n",
    "    \"\"\"\n",
    "    refactor from\n",
    "    @author olivier https://www.kaggle.com/ogrellier\n",
    "    multi logloss for PLAsTiCC challenge\n",
    "    \"\"\"  \n",
    "    # Taken from Giba's topic : https://www.kaggle.com/titericz\n",
    "    # https://www.kaggle.com/c/PLAsTiCC-2018/discussion/67194\n",
    "    # with Kyle Boone's post https://www.kaggle.com/kyleboone\n",
    "    classes = [6, 15, 16, 42, 52, 53, 62, 64, 65, 67, 88, 90, 92, 95]\n",
    "    class_weights = {6: 1, 15: 2, 16: 1, 42: 1, 52: 1, 53: 1, 62: 1, 64: 2, 65: 1, 67: 1, 88: 1, 90: 1, 92: 1, 95: 1}\n",
    "\n",
    "    loss = multi_weighted_logloss(y_true, y_preds, classes, class_weights)\n",
    "    return 'wloss', loss, False\n",
    "\n",
    "\n",
    "def xgb_multi_weighted_logloss(y_predicted, y_true, classes, class_weights):\n",
    "    loss = multi_weighted_logloss(y_true.get_label(), y_predicted, \n",
    "                                  classes, class_weights)\n",
    "    return 'wloss', loss\n",
    "\n",
    "\n",
    "def save_importances(importances_):\n",
    "    mean_gain = importances_[['gain', 'feature']].groupby('feature').mean()\n",
    "    importances_['mean_gain'] = importances_['feature'].map(mean_gain['gain'])\n",
    "    return importances_\n",
    "\n",
    "\n",
    "def xgb_modeling_cross_validation(params,\n",
    "                                  full_train, \n",
    "                                  y, \n",
    "                                  classes, \n",
    "                                  class_weights, \n",
    "                                  nr_fold=5, \n",
    "                                  random_state=1):\n",
    "    # Compute weights\n",
    "    w = y.value_counts()\n",
    "    weights = {i : np.sum(w) / w[i] for i in w.index}\n",
    "\n",
    "    # loss function\n",
    "    func_loss = partial(xgb_multi_weighted_logloss, \n",
    "                        classes=classes, \n",
    "                        class_weights=class_weights)\n",
    "\n",
    "    clfs = []\n",
    "    importances = pd.DataFrame()\n",
    "    folds = StratifiedKFold(n_splits=nr_fold, \n",
    "                            shuffle=True, \n",
    "                            random_state=random_state)\n",
    "    \n",
    "    oof_preds = np.zeros((len(full_train), np.unique(y).shape[0]))\n",
    "    for fold_, (trn_, val_) in enumerate(folds.split(y, y)):\n",
    "        trn_x, trn_y = full_train.iloc[trn_], y.iloc[trn_]\n",
    "        val_x, val_y = full_train.iloc[val_], y.iloc[val_]\n",
    "    \n",
    "        clf = XGBClassifier(**params)\n",
    "        clf.fit(\n",
    "            trn_x, trn_y,\n",
    "            eval_set=[(trn_x, trn_y), (val_x, val_y)],\n",
    "            eval_metric=func_loss,\n",
    "            verbose=100,\n",
    "            early_stopping_rounds=50,\n",
    "            sample_weight=trn_y.map(weights)\n",
    "        )\n",
    "        clfs.append(clf)\n",
    "\n",
    "        oof_preds[val_, :] = clf.predict_proba(val_x, ntree_limit=clf.best_ntree_limit)\n",
    "        print('no {}-fold loss: {}'.format(fold_ + 1, \n",
    "              multi_weighted_logloss(val_y, oof_preds[val_, :], \n",
    "                                     classes, class_weights)))\n",
    "    \n",
    "        imp_df = pd.DataFrame({\n",
    "                'feature': full_train.columns,\n",
    "                'gain': clf.feature_importances_,\n",
    "                'fold': [fold_ + 1] * len(full_train.columns),\n",
    "                })\n",
    "        importances = pd.concat([importances, imp_df], axis=0, sort=False)\n",
    "\n",
    "    score = multi_weighted_logloss(y_true=y, y_preds=oof_preds, \n",
    "                                   classes=classes, class_weights=class_weights)\n",
    "    print('MULTI WEIGHTED LOG LOSS: {:.5f}'.format(score))\n",
    "    df_importances = save_importances(importances_=importances)\n",
    "    df_importances.to_csv('xgb_importances.csv', index=False)\n",
    "    \n",
    "    return clfs, score\n",
    "\n",
    "\n",
    "def lgbm_modeling_cross_validation(params,\n",
    "                                   full_train, \n",
    "                                   y, \n",
    "                                   classes, \n",
    "                                   class_weights, \n",
    "                                   nr_fold=5, \n",
    "                                   random_state=1):\n",
    "\n",
    "    # Compute weights\n",
    "    w = y.value_counts()\n",
    "    weights = {i : np.sum(w) / w[i] for i in w.index}\n",
    "\n",
    "    clfs = []\n",
    "    importances = pd.DataFrame()\n",
    "    folds = StratifiedKFold(n_splits=nr_fold, \n",
    "                            shuffle=True, \n",
    "                            random_state=random_state)\n",
    "    \n",
    "    oof_preds = np.zeros((len(full_train), np.unique(y).shape[0]))\n",
    "    for fold_, (trn_, val_) in enumerate(folds.split(y, y)):\n",
    "        trn_x, trn_y = full_train.iloc[trn_], y.iloc[trn_]\n",
    "        val_x, val_y = full_train.iloc[val_], y.iloc[val_]\n",
    "    \n",
    "        clf = LGBMClassifier(**params)\n",
    "        clf.fit(\n",
    "            trn_x, trn_y,\n",
    "            eval_set=[(trn_x, trn_y), (val_x, val_y)],\n",
    "            eval_metric=lgbm_multi_weighted_logloss,\n",
    "            verbose=100,\n",
    "            early_stopping_rounds=50,\n",
    "            sample_weight=trn_y.map(weights)\n",
    "        )\n",
    "        clfs.append(clf)\n",
    "\n",
    "        oof_preds[val_, :] = clf.predict_proba(val_x, num_iteration=clf.best_iteration_)\n",
    "        print('no {}-fold loss: {}'.format(fold_ + 1, \n",
    "              multi_weighted_logloss(val_y, oof_preds[val_, :], \n",
    "                                     classes, class_weights)))\n",
    "    \n",
    "        imp_df = pd.DataFrame({\n",
    "                'feature': full_train.columns,\n",
    "                'gain': clf.feature_importances_,\n",
    "                'fold': [fold_ + 1] * len(full_train.columns),\n",
    "                })\n",
    "        importances = pd.concat([importances, imp_df], axis=0, sort=False)\n",
    "\n",
    "    score = multi_weighted_logloss(y_true=y, y_preds=oof_preds, \n",
    "                                   classes=classes, class_weights=class_weights)\n",
    "    print('MULTI WEIGHTED LOG LOSS: {:.5f}'.format(score))\n",
    "    df_importances = save_importances(importances_=importances)\n",
    "    df_importances.to_csv('lgbm_importances.csv', index=False)\n",
    "    \n",
    "    return clfs, score\n",
    "\n",
    "\n",
    "def predict_chunk(df_, clfs_, meta_, features, featurize_configs, train_mean):\n",
    "    \n",
    "    # process all features\n",
    "    full_test = featurize(df_, meta_, \n",
    "                          featurize_configs['aggs'], \n",
    "                          featurize_configs['fcp'])\n",
    "    full_test.fillna(0, inplace=True)\n",
    "\n",
    "    # Make predictions\n",
    "    preds_ = None\n",
    "    for clf in clfs_:\n",
    "        if preds_ is None:\n",
    "            preds_ = clf.predict_proba(full_test[features])\n",
    "        else:\n",
    "            preds_ += clf.predict_proba(full_test[features])\n",
    "            \n",
    "    preds_ = preds_ / len(clfs_)\n",
    "\n",
    "    # Compute preds_99 as the proba of class not being any of the others\n",
    "    # preds_99 = 0.1 gives 1.769\n",
    "    preds_99 = np.ones(preds_.shape[0])\n",
    "    for i in range(preds_.shape[1]):\n",
    "        preds_99 *= (1 - preds_[:, i])\n",
    "\n",
    "    # Create DataFrame from predictions\n",
    "    preds_df_ = pd.DataFrame(preds_, \n",
    "                             columns=['class_{}'.format(s) for s in clfs_[0].classes_])\n",
    "    preds_df_['object_id'] = full_test['object_id']\n",
    "    preds_df_['class_99'] = 0.14 * preds_99 / np.mean(preds_99)\n",
    "    return preds_df_\n",
    "\n",
    "\n",
    "def process_test(clfs, \n",
    "                 features, \n",
    "                 featurize_configs, \n",
    "                 train_mean,\n",
    "                 filename='predictions_xgb.csv',\n",
    "                 chunks=5000000):\n",
    "    start = time.time()\n",
    "\n",
    "    meta_test = process_meta('test_set_metadata.csv')\n",
    "    # meta_test.set_index('object_id',inplace=True)\n",
    "\n",
    "    remain_df = None\n",
    "    for i_c, df in enumerate(pd.read_csv('test_set.csv', chunksize=chunks, iterator=True)):\n",
    "        # Check object_ids\n",
    "        # I believe np.unique keeps the order of group_ids as they appear in the file\n",
    "        unique_ids = np.unique(df['object_id'])\n",
    "        \n",
    "        new_remain_df = df.loc[df['object_id'] == unique_ids[-1]].copy()\n",
    "        if remain_df is None:\n",
    "            df = df.loc[df['object_id'].isin(unique_ids[:-1])]\n",
    "        else:\n",
    "            df = pd.concat([remain_df, df.loc[df['object_id'].isin(unique_ids[:-1])]], axis=0)\n",
    "        # Create remaining samples df\n",
    "        remain_df = new_remain_df\n",
    "        \n",
    "        preds_df = predict_chunk(df_=df,\n",
    "                                 clfs_=clfs,\n",
    "                                 meta_=meta_test,\n",
    "                                 features=features,\n",
    "                                 featurize_configs=featurize_configs,\n",
    "                                 train_mean=train_mean)\n",
    "    \n",
    "        if i_c == 0:\n",
    "            preds_df.to_csv(filename, header=True, mode='a', index=False)\n",
    "        else:\n",
    "            preds_df.to_csv(filename, header=False, mode='a', index=False)\n",
    "    \n",
    "        del preds_df\n",
    "        gc.collect()\n",
    "        print('{:15d} done in {:5.1f} minutes' .format(\n",
    "                chunks * (i_c + 1), (time.time() - start) / 60), flush=True)\n",
    "        \n",
    "    # Compute last object in remain_df\n",
    "    preds_df = predict_chunk(df_=remain_df,\n",
    "                             clfs_=clfs,\n",
    "                             meta_=meta_test,\n",
    "                             features=features,\n",
    "                             featurize_configs=featurize_configs,\n",
    "                             train_mean=train_mean)\n",
    "        \n",
    "    preds_df.to_csv(filename, header=False, mode='a', index=False)\n",
    "    return\n",
    "\n",
    "def bazin(time, A, B, t0, tfall, trise):\n",
    "    X = np.exp(-(time - t0) / tfall) / (1 + np.exp((time - t0) / trise))\n",
    "    return A * X + B\n",
    "\n",
    "def lightcurve_fit(time, flux):\n",
    "    scaled_time = time - time.min()\n",
    "    t0 = scaled_time[flux.argmax()]\n",
    "    guess = (0, 0, t0, 40, -5)\n",
    "\n",
    "    errfunc = lambda params: abs(flux - bazin(scaled_time, *params))\n",
    "\n",
    "    result = least_squares(errfunc, guess, method='lm')\n",
    "\n",
    "    return result.x\n",
    "\n",
    "def main(argc, argv):\n",
    "    # Features to compute with tsfresh library. Fft coefficient is meant to capture periodicity    \n",
    "    \n",
    "    # agg features\n",
    "    aggs = {\n",
    "        'flux': ['min', 'max', 'mean', 'median', 'std', 'skew'],\n",
    "        'flux_err': ['min', 'max', 'mean', 'median', 'std', 'skew'],\n",
    "        'detected': ['mean'],\n",
    "        'flux_ratio_sq':['sum', 'skew'],\n",
    "        'flux_by_flux_ratio_sq':['sum','skew'],\n",
    "    }\n",
    "    \n",
    "    # tsfresh features\n",
    "    fcp = {\n",
    "        'flux': {\n",
    "            'longest_strike_above_mean': None,\n",
    "            'longest_strike_below_mean': None,\n",
    "            'mean_change': None,\n",
    "            'mean_abs_change': None,\n",
    "            'length': None,\n",
    "        },\n",
    "                \n",
    "        'flux_by_flux_ratio_sq': {\n",
    "            'longest_strike_above_mean': None,\n",
    "            'longest_strike_below_mean': None,       \n",
    "        },\n",
    "                \n",
    "        'flux_passband': {\n",
    "            'fft_coefficient': [\n",
    "                    {'coeff': 0, 'attr': 'abs'}, \n",
    "                    {'coeff': 1, 'attr': 'abs'}\n",
    "                ],\n",
    "            'kurtosis' : None, \n",
    "            'skewness' : None,\n",
    "        },\n",
    "                \n",
    "        'mjd': {\n",
    "            'maximum': None, \n",
    "            'minimum': None,\n",
    "            'mean_change': None,\n",
    "            'mean_abs_change': None,\n",
    "        },\n",
    "    }\n",
    "\n",
    "    best_params = {\n",
    "            'device': 'cpu', \n",
    "            'objective': 'multiclass', \n",
    "            'num_class': 14, \n",
    "            'boosting_type': 'gbdt', \n",
    "            'n_jobs': -1, \n",
    "            'max_depth': 7, \n",
    "            'n_estimators': 500, \n",
    "            'subsample_freq': 2, \n",
    "            'subsample_for_bin': 5000, \n",
    "            'min_data_per_group': 100, \n",
    "            'max_cat_to_onehot': 4, \n",
    "            'cat_l2': 1.0, \n",
    "            'cat_smooth': 59.5, \n",
    "            'max_cat_threshold': 32, \n",
    "            'metric_freq': 10, \n",
    "            'verbosity': -1, \n",
    "            'metric': 'multi_logloss', \n",
    "            'xgboost_dart_mode': False, \n",
    "            'uniform_drop': False, \n",
    "            'colsample_bytree': 0.5, \n",
    "            'drop_rate': 0.173, \n",
    "            'learning_rate': 0.0267, \n",
    "            'max_drop': 5, \n",
    "            'min_child_samples': 10, \n",
    "            'min_child_weight': 100.0, \n",
    "            'min_split_gain': 0.1, \n",
    "            'num_leaves': 7, \n",
    "            'reg_alpha': 0.1, \n",
    "            'reg_lambda': 0.00023, \n",
    "            'skip_drop': 0.44, \n",
    "            'subsample': 0.75}\n",
    "\n",
    "    meta_train = process_meta('training_set_metadata_head_oldlab.csv')\n",
    "    \n",
    "    train = pd.read_csv('training_set.csv')\n",
    "    full_train = featurize(train, meta_train, aggs, fcp)\n",
    "\n",
    "    if 'target' in full_train:\n",
    "        y = full_train['target']\n",
    "        del full_train['target']\n",
    "        \n",
    "    classes = sorted(y.unique())    \n",
    "    # Taken from Giba's topic : https://www.kaggle.com/titericz\n",
    "    # https://www.kaggle.com/c/PLAsTiCC-2018/discussion/67194\n",
    "    # with Kyle Boone's post https://www.kaggle.com/kyleboone\n",
    "    class_weights = {c: 1 for c in classes}\n",
    "    class_weights.update({c:2 for c in [64, 15]})\n",
    "    print('Unique classes : {}, {}'.format(len(classes), classes))\n",
    "    print(class_weights)\n",
    "    #sanity check: classes = [6, 15, 16, 42, 52, 53, 62, 64, 65, 67, 88, 90, 92, 95]\n",
    "    #sanity check: class_weights = {6: 1, 15: 2, 16: 1, 42: 1, 52: 1, 53: 1, 62: 1, 64: 2, 65: 1, 67: 1, 88: 1, 90: 1, 92: 1, 95: 1}\n",
    "    #if len(np.unique(y_true)) > 14:\n",
    "    #    classes.append(99)\n",
    "    #    class_weights[99] = 2\n",
    "    \n",
    "    if 'object_id' in full_train:\n",
    "        oof_df = full_train[['object_id']]\n",
    "        del full_train['object_id'] \n",
    "        #del full_train['distmod'] \n",
    "        del full_train['hostgal_specz']\n",
    "        del full_train['ra'], full_train['decl'], full_train['gal_l'], full_train['gal_b']\n",
    "        del full_train['ddf']\n",
    "    \n",
    "    train_mean = full_train.mean(axis=0)\n",
    "    #train_mean.to_hdf('train_data.hdf5', 'data')\n",
    "    pd.set_option('display.max_rows', 500)\n",
    "    print(full_train.describe().T)\n",
    "    #import pdb; pdb.set_trace()\n",
    "    full_train.fillna(0, inplace=True)\n",
    "\n",
    "    eval_func = partial(lgbm_modeling_cross_validation, \n",
    "                        full_train=full_train, \n",
    "                        y=y, \n",
    "                        classes=classes, \n",
    "                        class_weights=class_weights, \n",
    "                        nr_fold=5, \n",
    "                        random_state=1)\n",
    "\n",
    "    best_params.update({'n_estimators': 1000})\n",
    "    \n",
    "    # modeling from CV\n",
    "    clfs, score = eval_func(best_params)\n",
    "        \n",
    "    filename = 'subm_{:.6f}_{}.csv'.format(score, \n",
    "                     dt.now().strftime('%Y-%m-%d-%H-%M'))\n",
    "    print('save to {}'.format(filename))\n",
    "    # TEST\n",
    "    process_test(clfs, \n",
    "                 features=full_train.columns, \n",
    "                 featurize_configs={'aggs': aggs, 'fcp': fcp}, \n",
    "                 train_mean=train_mean, \n",
    "                 filename=filename,\n",
    "                 chunks=5000000)\n",
    "        \n",
    "    z = pd.read_csv(filename)\n",
    "    print(\"Shape BEFORE grouping: {}\".format(z.shape))\n",
    "    z = z.groupby('object_id').mean()\n",
    "    print(\"Shape AFTER grouping: {}\".format(z.shape))\n",
    "    z.to_csv('single_{}'.format(filename), index=True)\n",
    "\n",
    "\n",
    "if __name__ == '__main__':\n",
    "    main(len(sys.argv), sys.argv)"
   ]
  },
  {
   "cell_type": "code",
   "execution_count": 6,
   "metadata": {},
   "outputs": [
    {
     "name": "stdout",
     "output_type": "stream",
     "text": [
      "2\n",
      "1\n"
     ]
    }
   ],
   "source": [
    "z = pd.read_csv('single_{}'.format(filename))\n",
    "\n",
    "print(z.groupby('object_id').size().max())\n",
    "print((z.groupby('object_id').size() > 1).sum())\n",
    "\n",
    "z = z.groupby('object_id').mean()\n",
    "\n",
    "z_new = z\n",
    "z_new[\"sum\"] = z_new.sum(axis=1)\n",
    "\n",
    "z_new = z_new.loc[:,\"class_6\":\"class_99\"].div(z_new[\"sum\"], axis=0)\n",
    "z_new.index = z_new.index.map(int)"
   ]
  },
  {
   "cell_type": "code",
   "execution_count": 7,
   "metadata": {},
   "outputs": [
    {
     "name": "stdout",
     "output_type": "stream",
     "text": [
      "2\n",
      "14\n"
     ]
    }
   ],
   "source": [
    "z2 = pd.read_csv('predictions.csv')\n",
    "\n",
    "print(z2.groupby('object_id').size().max())\n",
    "print((z2.groupby('object_id').size() > 1).sum())\n",
    "\n",
    "z2 = z2.groupby('object_id').mean()\n",
    "\n",
    "z2_new = z2\n",
    "z2_new[\"sum\"] = z2_new.sum(axis=1)\n",
    "\n",
    "z2_new = z2_new.loc[:,\"class_6\":\"class_99\"].div(z2_new[\"sum\"], axis=0)\n",
    "z2_new.index = z2_new.index.map(int)\n",
    "\n",
    "zf = (z_new + z2_new) / 2\n",
    "\n",
    "zf.to_csv('single_combined_predictions.csv', index=True)"
   ]
  },
  {
   "cell_type": "code",
   "execution_count": null,
   "metadata": {},
   "outputs": [],
   "source": []
  }
 ],
 "metadata": {
  "kernelspec": {
   "display_name": "Python 3",
   "language": "python",
   "name": "python3"
  },
  "language_info": {
   "codemirror_mode": {
    "name": "ipython",
    "version": 3
   },
   "file_extension": ".py",
   "mimetype": "text/x-python",
   "name": "python",
   "nbconvert_exporter": "python",
   "pygments_lexer": "ipython3",
   "version": "3.6.3"
  }
 },
 "nbformat": 4,
 "nbformat_minor": 2
}
