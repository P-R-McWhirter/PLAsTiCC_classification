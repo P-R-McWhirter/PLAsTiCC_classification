{
 "cells": [
  {
   "cell_type": "code",
   "execution_count": 1,
   "metadata": {},
   "outputs": [],
   "source": [
    "import pandas as pd\n",
    "import numpy as np\n",
    "from scipy.optimize import least_squares"
   ]
  },
  {
   "cell_type": "code",
   "execution_count": 2,
   "metadata": {},
   "outputs": [],
   "source": [
    "def bazin(time, A, B, t0, tfall, trise):\n",
    "    X = np.exp(-(time - t0) / tfall) / (1 + np.exp((time - t0) / trise))\n",
    "    return A * X + B\n",
    "\n",
    "def lightcurve_fit(time, flux):\n",
    "    scaled_time = time - time.min()\n",
    "    t0 = scaled_time[flux.argmax()]\n",
    "    guess = (0, 0, t0, 40, -5)\n",
    "\n",
    "    errfunc = lambda params: abs(flux - bazin(scaled_time, *params))\n",
    "\n",
    "    result = least_squares(errfunc, guess, method='lm')\n",
    "\n",
    "    return result.x, result.cost"
   ]
  },
  {
   "cell_type": "code",
   "execution_count": 3,
   "metadata": {},
   "outputs": [
    {
     "name": "stdout",
     "output_type": "stream",
     "text": [
      "Processing object 615.\n"
     ]
    },
    {
     "name": "stderr",
     "output_type": "stream",
     "text": [
      "C:\\Users\\Ross\\Anaconda3\\lib\\site-packages\\ipykernel_launcher.py:2: RuntimeWarning: overflow encountered in exp\n",
      "  \n",
      "C:\\Users\\Ross\\Anaconda3\\lib\\site-packages\\ipykernel_launcher.py:2: RuntimeWarning: invalid value encountered in true_divide\n",
      "  \n",
      "C:\\Users\\Ross\\Anaconda3\\lib\\site-packages\\numpy\\core\\_methods.py:26: RuntimeWarning: invalid value encountered in reduce\n",
      "  return umr_maximum(a, axis, None, out, keepdims)\n",
      "C:\\Users\\Ross\\Anaconda3\\lib\\site-packages\\ipykernel_launcher.py:3: RuntimeWarning: overflow encountered in multiply\n",
      "  This is separate from the ipykernel package so we can avoid doing imports until\n",
      "C:\\Users\\Ross\\Anaconda3\\lib\\site-packages\\scipy\\optimize\\_numdiff.py:409: RuntimeWarning: overflow encountered in true_divide\n",
      "  J_transposed[i] = df / dx\n"
     ]
    },
    {
     "name": "stdout",
     "output_type": "stream",
     "text": [
      "Processing object 169315.\n",
      "Processing object 325372.\n",
      "Processing object 20222858.\n",
      "Processing object 43018203.\n",
      "Processing object 66626509.\n",
      "Processing object 89002707.\n",
      "Processing object 111702099.\n"
     ]
    }
   ],
   "source": [
    "train = pd.read_csv('training_set.csv')\n",
    "\n",
    "df = train\n",
    "\n",
    "bands = ['u', 'g', 'r', 'i', 'z', 'y']\n",
    "\n",
    "objnum = len(np.unique(df['object_id']))\n",
    "\n",
    "coeffs = np.zeros(shape=(objnum, 37))\n",
    "        \n",
    "for num, obj in enumerate(sorted(np.unique(df['object_id']))):\n",
    "    \n",
    "    if num % 1000 == 0:\n",
    "        print('Processing object ' + str(obj) + '.')\n",
    "        \n",
    "    df_obj = df[df['object_id']==obj].copy()\n",
    "    df_u = df_obj[df_obj['passband']==0].copy()\n",
    "    df_g = df_obj[df_obj['passband']==1].copy()\n",
    "    df_r = df_obj[df_obj['passband']==2].copy()\n",
    "    df_i = df_obj[df_obj['passband']==3].copy()\n",
    "    df_z = df_obj[df_obj['passband']==4].copy()\n",
    "    df_y = df_obj[df_obj['passband']==5].copy()\n",
    "    time_u = df_u['mjd'].values\n",
    "    flux_u = df_u['flux'].values\n",
    "    time_g = df_g['mjd'].values\n",
    "    flux_g = df_g['flux'].values\n",
    "    time_r = df_r['mjd'].values\n",
    "    flux_r = df_r['flux'].values\n",
    "    time_i = df_i['mjd'].values\n",
    "    flux_i = df_i['flux'].values\n",
    "    time_z = df_z['mjd'].values\n",
    "    flux_z = df_z['flux'].values\n",
    "    time_y = df_y['mjd'].values\n",
    "    flux_y = df_y['flux'].values\n",
    "            \n",
    "    try:\n",
    "        fit_u, cost_u = lightcurve_fit(time_u, flux_u)\n",
    "    except:\n",
    "        fit_u = np.array([np.nan,np.nan,np.nan,np.nan,np.nan])\n",
    "        cost_u = np.nan\n",
    "        \n",
    "    try:\n",
    "        fit_g, cost_g = lightcurve_fit(time_g, flux_g)\n",
    "    except:\n",
    "        fit_g = np.array([np.nan,np.nan,np.nan,np.nan,np.nan])\n",
    "        cost_g = np.nan\n",
    "        \n",
    "    try:\n",
    "        fit_r, cost_r = lightcurve_fit(time_r, flux_r)\n",
    "    except:\n",
    "        fit_r = np.array([np.nan,np.nan,np.nan,np.nan,np.nan])\n",
    "        cost_r = np.nan\n",
    "        \n",
    "    try:\n",
    "        fit_i, cost_i = lightcurve_fit(time_i, flux_i)\n",
    "    except:\n",
    "        fit_i = np.array([np.nan,np.nan,np.nan,np.nan,np.nan])\n",
    "        cost_i = np.nan\n",
    "        \n",
    "    try:\n",
    "        fit_z, cost_z = lightcurve_fit(time_z, flux_z)\n",
    "    except:\n",
    "        fit_z = np.array([np.nan,np.nan,np.nan,np.nan,np.nan])\n",
    "        cost_z = np.nan\n",
    "        \n",
    "    try:\n",
    "        fit_y, cost_y = lightcurve_fit(time_y, flux_y)\n",
    "    except:\n",
    "        fit_y = np.array([np.nan,np.nan,np.nan,np.nan,np.nan])\n",
    "        cost_y = np.nan\n",
    "    \n",
    "    coeffs[num, 0] = obj\n",
    "    coeffs[num, np.arange(1,7)] = np.concatenate([fit_u, cost_u], axis=None)\n",
    "    coeffs[num, np.arange(7,13)] = np.concatenate([fit_g, cost_g], axis=None)\n",
    "    coeffs[num, np.arange(13,19)] = np.concatenate([fit_r, cost_r], axis=None)\n",
    "    coeffs[num, np.arange(19,25)] = np.concatenate([fit_i, cost_i], axis=None)\n",
    "    coeffs[num, np.arange(25,31)] = np.concatenate([fit_z, cost_z], axis=None)\n",
    "    coeffs[num, np.arange(31,37)] = np.concatenate([fit_y, cost_y], axis=None)\n",
    "    \n",
    "coeffs = pd.DataFrame(coeffs, index=None)\n",
    "    \n",
    "columns = ['object_id', 'A_u', 'B_u', 't_0_u', 't_fall_u', 't_rise_u', 'cost_u', 'A_g', 'B_g',\n",
    "           't_0_g', 't_fall_g', 't_rise_g', 'cost_g', 'A_r', 'B_r', 't_0_r', 't_fall_r', 't_rise_r',\n",
    "           'cost_r', 'A_i', 'B_i', 't_0_i', 't_fall_i', 't_rise_i', 'cost_i', 'A_z', 'B_z', 't_0_z',\n",
    "           't_fall_z', 't_rise_z', 'cost_z', 'A_y', 'B_y', 't_0_y', 't_fall_y', 't_rise_y', 'cost_y']\n",
    "\n",
    "coeffs.columns = columns\n",
    "\n",
    "coeffs['object_id'] = coeffs['object_id'].map(int)\n",
    "\n",
    "coeffs.to_csv('supernova_all_bands.csv', index=False)"
   ]
  },
  {
   "cell_type": "code",
   "execution_count": null,
   "metadata": {},
   "outputs": [],
   "source": []
  },
  {
   "cell_type": "code",
   "execution_count": null,
   "metadata": {},
   "outputs": [],
   "source": []
  },
  {
   "cell_type": "code",
   "execution_count": null,
   "metadata": {},
   "outputs": [],
   "source": []
  }
 ],
 "metadata": {
  "kernelspec": {
   "display_name": "Python 3",
   "language": "python",
   "name": "python3"
  },
  "language_info": {
   "codemirror_mode": {
    "name": "ipython",
    "version": 3
   },
   "file_extension": ".py",
   "mimetype": "text/x-python",
   "name": "python",
   "nbconvert_exporter": "python",
   "pygments_lexer": "ipython3",
   "version": "3.6.3"
  }
 },
 "nbformat": 4,
 "nbformat_minor": 2
}
